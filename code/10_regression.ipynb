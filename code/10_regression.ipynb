{
 "cells": [
  {
   "cell_type": "markdown",
   "metadata": {},
   "source": [
    "# Initialization"
   ]
  },
  {
   "cell_type": "code",
   "execution_count": null,
   "metadata": {},
   "outputs": [],
   "source": [
    "import os\n",
    "import sys\n",
    "import pyspark\n",
    "import pandas as pd\n",
    "import matplotlib.pyplot as plt\n",
    "import seaborn as sns\n",
    "\n",
    "\n",
    "from pyspark.sql import SparkSession\n",
    "from pyspark.sql.functions import log1p\n",
    "\n",
    "from pyspark.ml import Pipeline\n",
    "\n",
    "from pyspark.ml.regression import GeneralizedLinearRegression, RandomForestRegressor\n",
    "\n",
    "from pyspark.ml.evaluation import RegressionEvaluator\n",
    "from pyspark.ml.tuning import ParamGridBuilder, CrossValidator, CrossValidatorModel"
   ]
  },
  {
   "cell_type": "code",
   "execution_count": 2,
   "metadata": {},
   "outputs": [
    {
     "name": "stdout",
     "output_type": "stream",
     "text": [
      "/Users/gaelleba/anaconda3/envs/sparkEnv/bin/python\n",
      "3.5.4\n"
     ]
    }
   ],
   "source": [
    "print(sys.executable)    # vérification\n",
    "os.environ['PYSPARK_PYTHON'] = sys.executable\n",
    "os.environ['PYSPARK_DRIVER_PYTHON'] = sys.executable\n",
    "\n",
    "print(pyspark.__version__)"
   ]
  },
  {
   "cell_type": "markdown",
   "metadata": {},
   "source": [
    "# Start Spark session and open pre-treated dataset"
   ]
  },
  {
   "cell_type": "code",
   "execution_count": 3,
   "metadata": {},
   "outputs": [
    {
     "name": "stderr",
     "output_type": "stream",
     "text": [
      "Setting default log level to \"WARN\".\n",
      "To adjust logging level use sc.setLogLevel(newLevel). For SparkR, use setLogLevel(newLevel).\n",
      "25/02/10 22:44:05 WARN NativeCodeLoader: Unable to load native-hadoop library for your platform... using builtin-java classes where applicable\n",
      "25/02/10 22:44:05 WARN Utils: Service 'SparkUI' could not bind on port 4040. Attempting port 4041.\n"
     ]
    }
   ],
   "source": [
    "# create a spark session\n",
    "spark = SparkSession \\\n",
    ".builder \\\n",
    ".master(\"local\") \\\n",
    ".config(\"spark.executor.memory\", \"8g\") \\\n",
    ".config(\"spark.driver.memory\", \"8g\") \\\n",
    ".config(\"spark.memory.fraction\", \"0.6\") \\\n",
    ".config(\"spark.memory.storageFraction\", \"0.3\") \\\n",
    ".config(\"spark.executor.cores\", \"4\") \\\n",
    ".config(\"spark.sql.shuffle.partitions\", \"200\") \\\n",
    ".config(\"spark.driver.extraJavaOptions\", \"-XX:ReservedCodeCacheSize=512m\") \\\n",
    ".getOrCreate()"
   ]
  },
  {
   "cell_type": "code",
   "execution_count": 4,
   "metadata": {},
   "outputs": [],
   "source": [
    "folder_models=\"regression_models_sample\"\n",
    "df_name='df_regression_sample_fullEmbed'"
   ]
  },
  {
   "cell_type": "code",
   "execution_count": 5,
   "metadata": {},
   "outputs": [
    {
     "name": "stderr",
     "output_type": "stream",
     "text": [
      "                                                                                \r"
     ]
    },
    {
     "name": "stdout",
     "output_type": "stream",
     "text": [
      "root\n",
      " |-- features: vector (nullable = true)\n",
      " |-- cit1year: integer (nullable = true)\n",
      "\n",
      "Features vector size: 803\n"
     ]
    },
    {
     "name": "stderr",
     "output_type": "stream",
     "text": [
      "                                                                                \r"
     ]
    }
   ],
   "source": [
    "# Load the pre-treated dataset\n",
    "df_reg = spark.read.parquet(f\"{folder_models}/{df_name}\")\n",
    "df_reg.printSchema()\n",
    "print(\"Features vector size:\", df_reg.select(\"features\").head()[0].size)"
   ]
  },
  {
   "cell_type": "code",
   "execution_count": 6,
   "metadata": {},
   "outputs": [
    {
     "name": "stdout",
     "output_type": "stream",
     "text": [
      "+--------------------+--------+------------------+\n",
      "|            features|cit1year|      log_cit1year|\n",
      "+--------------------+--------+------------------+\n",
      "|[1.0,0.0,1.0,0.0,...|      11|2.4849066497880004|\n",
      "|[1.0,0.0,0.0,0.0,...|       2|1.0986122886681096|\n",
      "|[1.0,0.0,0.0,0.0,...|       7|2.0794415416798357|\n",
      "|[1.0,0.0,0.0,0.0,...|       0|               0.0|\n",
      "|[1.0,0.0,0.0,0.0,...|       5| 1.791759469228055|\n",
      "|[1.0,0.0,0.0,0.0,...|      10|2.3978952727983707|\n",
      "|[1.0,0.0,1.0,0.0,...|       2|1.0986122886681096|\n",
      "|[1.0,0.0,0.0,0.0,...|       2|1.0986122886681096|\n",
      "|[1.0,0.0,0.0,0.0,...|       8|2.1972245773362196|\n",
      "|[1.0,0.0,0.0,0.0,...|       0|               0.0|\n",
      "|[1.0,0.0,1.0,0.0,...|       6|1.9459101490553132|\n",
      "|[1.0,0.0,1.0,0.0,...|      21| 3.091042453358316|\n",
      "|[1.0,0.0,0.0,0.0,...|       3|1.3862943611198906|\n",
      "|[1.0,0.0,1.0,0.0,...|       7|2.0794415416798357|\n",
      "|[1.0,0.0,0.0,1.0,...|      19| 2.995732273553991|\n",
      "|[1.0,0.0,1.0,0.0,...|       7|2.0794415416798357|\n",
      "|[1.0,0.0,0.0,0.0,...|       3|1.3862943611198906|\n",
      "|[1.0,0.0,0.0,0.0,...|       5| 1.791759469228055|\n",
      "|[1.0,0.0,1.0,0.0,...|       9| 2.302585092994046|\n",
      "|[1.0,0.0,0.0,0.0,...|       2|1.0986122886681096|\n",
      "+--------------------+--------+------------------+\n",
      "only showing top 20 rows\n",
      "\n"
     ]
    }
   ],
   "source": [
    "df_reg = df_reg.withColumn('log_cit1year', log1p(df_reg['cit1year']))\n",
    "df_reg.show()"
   ]
  },
  {
   "cell_type": "code",
   "execution_count": 7,
   "metadata": {},
   "outputs": [],
   "source": [
    "# Partitionner les données en apprentissage (80%) et test (20%)\n",
    "partitions = df_reg.randomSplit([0.8, 0.2], seed=100)\n",
    "train = partitions[0].cache()  # conservé en mémoire\n",
    "test = partitions[1]"
   ]
  },
  {
   "cell_type": "code",
   "execution_count": null,
   "metadata": {},
   "outputs": [
    {
     "name": "stderr",
     "output_type": "stream",
     "text": [
      "                                                                                \r"
     ]
    }
   ],
   "source": [
    "train.write.mode(\"overwrite\").parquet(f\"{folder_models}/train_fullEmbed\")\n",
    "test.write.mode(\"overwrite\").parquet(f\"{folder_models}/test_fullEmbed\")"
   ]
  },
  {
   "cell_type": "markdown",
   "metadata": {},
   "source": [
    "# Regression models"
   ]
  },
  {
   "cell_type": "markdown",
   "metadata": {},
   "source": [
    "## Generalized linear regression"
   ]
  },
  {
   "cell_type": "code",
   "execution_count": null,
   "metadata": {},
   "outputs": [],
   "source": [
    "\n",
    "glr =GeneralizedLinearRegression(family=\"tweedie\")\\\n",
    "    .setFeaturesCol(\"features\")\\\n",
    "    .setLabelCol(\"cit1year\")\\\n",
    "        \n",
    "pipeline_glr = Pipeline().setStages([glr])"
   ]
  },
  {
   "cell_type": "code",
   "execution_count": null,
   "metadata": {},
   "outputs": [
    {
     "name": "stderr",
     "output_type": "stream",
     "text": [
      "                                                                                \r"
     ]
    }
   ],
   "source": [
    "# Construction de la grille de (hyper)paramètres utilisée pour grid search\n",
    "paramGrid_glr = (ParamGridBuilder()\n",
    "             .addGrid(glr.regParam, [0.001, 0.005, 0.01, 0.1, 0.5, 1.0])\n",
    "             .addGrid(glr.maxIter, [50, 100, 200])\n",
    "             .build())\n",
    "\n",
    "cv_glr = CrossValidator().setEstimator(pipeline_glr) \\\n",
    "                     .setEstimatorParamMaps(paramGrid_glr) \\\n",
    "                     .setNumFolds(5) \\\n",
    "                     .setEvaluator(RegressionEvaluator(metricName=\"mae\", labelCol=\"cit1year\"))\n",
    "\n",
    "cvGLRmodel = cv_glr.fit(train)"
   ]
  },
  {
   "cell_type": "code",
   "execution_count": 51,
   "metadata": {},
   "outputs": [
    {
     "name": "stdout",
     "output_type": "stream",
     "text": [
      "[16.123558067489455, 16.123558067489455, 16.123558067489455, 16.103598071222358, 16.103598071222358, 16.103598071222358, 16.07896477334721, 16.07896477334721, 16.07896477334721, 15.6869714919134, 15.6869714919134, 15.6869714919134, 14.580486055454628, 14.580486055454628, 14.580486055454628, 13.810050039718973, 13.810050039718973, 13.810050039718973]\n"
     ]
    },
    {
     "data": {
      "text/plain": [
       "{Param(parent='GeneralizedLinearRegression_f018256e76fd', name='regParam', doc='regularization parameter (>= 0).'): 0.001,\n",
       " Param(parent='GeneralizedLinearRegression_f018256e76fd', name='maxIter', doc='max number of iterations (>= 0).'): 50}"
      ]
     },
     "execution_count": 51,
     "metadata": {},
     "output_type": "execute_result"
    }
   ],
   "source": [
    "# Afficher les valeurs AUC obtenues pour les combinaisons de la grille\n",
    "print(cvGLRmodel.avgMetrics)\n",
    "\n",
    "# Afficher les meilleures valeurs pour les hyperparamètres\n",
    "cvGLRmodel.getEstimatorParamMaps()[cvGLRmodel.avgMetrics.index(max(cvGLRmodel.avgMetrics))]"
   ]
  },
  {
   "cell_type": "code",
   "execution_count": 52,
   "metadata": {},
   "outputs": [],
   "source": [
    "cvGLRmodel.write().overwrite().save(f\"{folder_models}/cvGLR_tweedie_model_fullEmbed\")"
   ]
  },
  {
   "cell_type": "markdown",
   "metadata": {},
   "source": [
    "## Random forests"
   ]
  },
  {
   "cell_type": "code",
   "execution_count": 53,
   "metadata": {},
   "outputs": [],
   "source": [
    "rf = RandomForestRegressor() \\\n",
    "              .setFeaturesCol(\"features\") \\\n",
    "              .setLabelCol(\"cit1year\")\\\n",
    "            .setSeed(100)\n",
    "\n",
    "pipelineRF = Pipeline().setStages([rf])"
   ]
  },
  {
   "cell_type": "code",
   "execution_count": null,
   "metadata": {},
   "outputs": [
    {
     "name": "stderr",
     "output_type": "stream",
     "text": [
      "25/02/09 17:30:19 WARN DAGScheduler: Broadcasting large task binary with size 1210.4 KiB\n",
      "25/02/09 17:30:26 WARN DAGScheduler: Broadcasting large task binary with size 1080.9 KiB\n",
      "25/02/09 17:30:34 WARN DAGScheduler: Broadcasting large task binary with size 1189.7 KiB\n",
      "25/02/09 17:30:41 WARN DAGScheduler: Broadcasting large task binary with size 1066.4 KiB\n",
      "25/02/09 17:30:48 WARN DAGScheduler: Broadcasting large task binary with size 1138.3 KiB\n",
      "25/02/09 17:30:55 WARN DAGScheduler: Broadcasting large task binary with size 1034.3 KiB\n",
      "25/02/09 17:31:01 WARN DAGScheduler: Broadcasting large task binary with size 1153.6 KiB\n",
      "25/02/09 17:31:02 WARN DAGScheduler: Broadcasting large task binary with size 1587.5 KiB\n",
      "25/02/09 17:31:03 WARN DAGScheduler: Broadcasting large task binary with size 2.1 MiB\n",
      "25/02/09 17:31:05 WARN DAGScheduler: Broadcasting large task binary with size 2.8 MiB\n",
      "25/02/09 17:31:12 WARN DAGScheduler: Broadcasting large task binary with size 1132.9 KiB\n",
      "25/02/09 17:31:13 WARN DAGScheduler: Broadcasting large task binary with size 1626.7 KiB\n",
      "25/02/09 17:31:14 WARN DAGScheduler: Broadcasting large task binary with size 2.2 MiB\n",
      "25/02/09 17:31:15 WARN DAGScheduler: Broadcasting large task binary with size 3.1 MiB\n",
      "25/02/09 17:31:22 WARN DAGScheduler: Broadcasting large task binary with size 1057.8 KiB\n",
      "25/02/09 17:31:23 WARN DAGScheduler: Broadcasting large task binary with size 1416.2 KiB\n",
      "25/02/09 17:31:24 WARN DAGScheduler: Broadcasting large task binary with size 1836.8 KiB\n",
      "25/02/09 17:31:25 WARN DAGScheduler: Broadcasting large task binary with size 2.3 MiB\n",
      "25/02/09 17:31:32 WARN DAGScheduler: Broadcasting large task binary with size 1055.6 KiB\n",
      "25/02/09 17:31:33 WARN DAGScheduler: Broadcasting large task binary with size 1451.6 KiB\n",
      "25/02/09 17:31:33 WARN DAGScheduler: Broadcasting large task binary with size 1948.8 KiB\n",
      "25/02/09 17:31:34 WARN DAGScheduler: Broadcasting large task binary with size 2.5 MiB\n",
      "25/02/09 17:31:41 WARN DAGScheduler: Broadcasting large task binary with size 1224.5 KiB\n",
      "25/02/09 17:31:42 WARN DAGScheduler: Broadcasting large task binary with size 1540.9 KiB\n",
      "25/02/09 17:31:43 WARN DAGScheduler: Broadcasting large task binary with size 1870.7 KiB\n",
      "25/02/09 17:31:50 WARN DAGScheduler: Broadcasting large task binary with size 1249.6 KiB\n",
      "25/02/09 17:31:50 WARN DAGScheduler: Broadcasting large task binary with size 1592.3 KiB\n",
      "25/02/09 17:31:51 WARN DAGScheduler: Broadcasting large task binary with size 1969.2 KiB\n",
      "25/02/09 17:31:58 WARN DAGScheduler: Broadcasting large task binary with size 1349.8 KiB\n",
      "25/02/09 17:32:00 WARN DAGScheduler: Broadcasting large task binary with size 1979.3 KiB\n",
      "25/02/09 17:32:02 WARN DAGScheduler: Broadcasting large task binary with size 2.8 MiB\n",
      "25/02/09 17:32:04 WARN DAGScheduler: Broadcasting large task binary with size 3.9 MiB\n",
      "25/02/09 17:32:08 WARN DAGScheduler: Broadcasting large task binary with size 5.4 MiB\n",
      "25/02/09 17:32:17 WARN DAGScheduler: Broadcasting large task binary with size 1255.0 KiB\n",
      "25/02/09 17:32:18 WARN DAGScheduler: Broadcasting large task binary with size 1900.8 KiB\n",
      "25/02/09 17:32:19 WARN DAGScheduler: Broadcasting large task binary with size 2.8 MiB\n",
      "25/02/09 17:32:21 WARN DAGScheduler: Broadcasting large task binary with size 4.1 MiB\n",
      "25/02/09 17:32:23 WARN DAGScheduler: Broadcasting large task binary with size 5.7 MiB\n",
      "25/02/09 17:32:31 WARN DAGScheduler: Broadcasting large task binary with size 1288.1 KiB\n",
      "25/02/09 17:32:33 WARN DAGScheduler: Broadcasting large task binary with size 1826.0 KiB\n",
      "25/02/09 17:32:34 WARN DAGScheduler: Broadcasting large task binary with size 2.5 MiB\n",
      "25/02/09 17:32:37 WARN DAGScheduler: Broadcasting large task binary with size 3.3 MiB\n",
      "25/02/09 17:32:40 WARN DAGScheduler: Broadcasting large task binary with size 4.4 MiB\n",
      "25/02/09 17:32:49 WARN DAGScheduler: Broadcasting large task binary with size 1193.6 KiB\n",
      "25/02/09 17:32:50 WARN DAGScheduler: Broadcasting large task binary with size 1737.1 KiB\n",
      "25/02/09 17:32:51 WARN DAGScheduler: Broadcasting large task binary with size 2.5 MiB\n",
      "25/02/09 17:32:52 WARN DAGScheduler: Broadcasting large task binary with size 3.4 MiB\n",
      "25/02/09 17:32:54 WARN DAGScheduler: Broadcasting large task binary with size 4.6 MiB\n",
      "25/02/09 17:33:02 WARN DAGScheduler: Broadcasting large task binary with size 1198.7 KiB\n",
      "25/02/09 17:33:04 WARN DAGScheduler: Broadcasting large task binary with size 1627.9 KiB\n",
      "25/02/09 17:33:05 WARN DAGScheduler: Broadcasting large task binary with size 2.1 MiB\n",
      "25/02/09 17:33:07 WARN DAGScheduler: Broadcasting large task binary with size 2.7 MiB\n",
      "25/02/09 17:33:09 WARN DAGScheduler: Broadcasting large task binary with size 3.4 MiB\n",
      "25/02/09 17:33:17 WARN DAGScheduler: Broadcasting large task binary with size 1117.7 KiB\n",
      "25/02/09 17:33:18 WARN DAGScheduler: Broadcasting large task binary with size 1569.0 KiB\n",
      "25/02/09 17:33:19 WARN DAGScheduler: Broadcasting large task binary with size 2.1 MiB\n",
      "25/02/09 17:33:20 WARN DAGScheduler: Broadcasting large task binary with size 2.8 MiB\n",
      "25/02/09 17:33:21 WARN DAGScheduler: Broadcasting large task binary with size 3.6 MiB\n",
      "25/02/09 17:33:29 WARN DAGScheduler: Broadcasting large task binary with size 1210.4 KiB\n",
      "25/02/09 17:33:31 WARN DAGScheduler: Broadcasting large task binary with size 1864.5 KiB\n",
      "25/02/09 17:33:33 WARN DAGScheduler: Broadcasting large task binary with size 2.7 MiB\n",
      "25/02/09 17:33:36 WARN DAGScheduler: Broadcasting large task binary with size 4.1 MiB\n",
      "25/02/09 17:33:40 WARN DAGScheduler: Broadcasting large task binary with size 5.7 MiB\n",
      "25/02/09 17:33:45 WARN DAGScheduler: Broadcasting large task binary with size 7.8 MiB\n",
      "25/02/09 17:33:47 WARN DAGScheduler: Broadcasting large task binary with size 1068.0 KiB\n",
      "25/02/09 17:33:58 WARN DAGScheduler: Broadcasting large task binary with size 1080.9 KiB\n",
      "25/02/09 17:33:58 WARN DAGScheduler: Broadcasting large task binary with size 1721.1 KiB\n",
      "25/02/09 17:33:59 WARN DAGScheduler: Broadcasting large task binary with size 2.7 MiB\n",
      "25/02/09 17:34:01 WARN DAGScheduler: Broadcasting large task binary with size 4.1 MiB\n",
      "25/02/09 17:34:03 WARN DAGScheduler: Broadcasting large task binary with size 6.1 MiB\n",
      "25/02/09 17:34:04 WARN DAGScheduler: Broadcasting large task binary with size 1088.4 KiB\n",
      "25/02/09 17:34:06 WARN DAGScheduler: Broadcasting large task binary with size 8.6 MiB\n",
      "25/02/09 17:34:07 WARN DAGScheduler: Broadcasting large task binary with size 1377.1 KiB\n",
      "25/02/09 17:34:16 WARN DAGScheduler: Broadcasting large task binary with size 1189.7 KiB\n",
      "25/02/09 17:34:17 WARN DAGScheduler: Broadcasting large task binary with size 1764.2 KiB\n",
      "25/02/09 17:34:19 WARN DAGScheduler: Broadcasting large task binary with size 2.5 MiB\n",
      "25/02/09 17:34:22 WARN DAGScheduler: Broadcasting large task binary with size 3.5 MiB\n",
      "25/02/09 17:34:25 WARN DAGScheduler: Broadcasting large task binary with size 4.7 MiB\n",
      "25/02/09 17:34:29 WARN DAGScheduler: Broadcasting large task binary with size 6.2 MiB\n",
      "25/02/09 17:34:39 WARN DAGScheduler: Broadcasting large task binary with size 1066.4 KiB\n",
      "25/02/09 17:34:40 WARN DAGScheduler: Broadcasting large task binary with size 1639.4 KiB\n",
      "25/02/09 17:34:41 WARN DAGScheduler: Broadcasting large task binary with size 2.4 MiB\n",
      "25/02/09 17:34:42 WARN DAGScheduler: Broadcasting large task binary with size 3.6 MiB\n",
      "25/02/09 17:34:44 WARN DAGScheduler: Broadcasting large task binary with size 5.1 MiB\n",
      "25/02/09 17:34:47 WARN DAGScheduler: Broadcasting large task binary with size 6.8 MiB\n",
      "25/02/09 17:34:48 WARN DAGScheduler: Broadcasting large task binary with size 1105.8 KiB\n",
      "25/02/09 17:34:56 WARN DAGScheduler: Broadcasting large task binary with size 1138.3 KiB\n",
      "25/02/09 17:34:57 WARN DAGScheduler: Broadcasting large task binary with size 1604.9 KiB\n",
      "25/02/09 17:34:59 WARN DAGScheduler: Broadcasting large task binary with size 2.2 MiB\n",
      "25/02/09 17:35:01 WARN DAGScheduler: Broadcasting large task binary with size 2.9 MiB\n",
      "25/02/09 17:35:04 WARN DAGScheduler: Broadcasting large task binary with size 3.8 MiB\n",
      "25/02/09 17:35:08 WARN DAGScheduler: Broadcasting large task binary with size 4.8 MiB\n",
      "25/02/09 17:35:16 WARN DAGScheduler: Broadcasting large task binary with size 1034.3 KiB\n",
      "25/02/09 17:35:17 WARN DAGScheduler: Broadcasting large task binary with size 1520.1 KiB\n",
      "25/02/09 17:35:18 WARN DAGScheduler: Broadcasting large task binary with size 2.1 MiB\n",
      "25/02/09 17:35:19 WARN DAGScheduler: Broadcasting large task binary with size 3.0 MiB\n",
      "25/02/09 17:35:21 WARN DAGScheduler: Broadcasting large task binary with size 4.0 MiB\n",
      "25/02/09 17:35:23 WARN DAGScheduler: Broadcasting large task binary with size 5.2 MiB\n",
      "25/02/09 17:38:03 WARN DAGScheduler: Broadcasting large task binary with size 1208.1 KiB\n",
      "25/02/09 17:38:10 WARN DAGScheduler: Broadcasting large task binary with size 1088.4 KiB\n",
      "25/02/09 17:38:17 WARN DAGScheduler: Broadcasting large task binary with size 1187.6 KiB\n",
      "25/02/09 17:38:24 WARN DAGScheduler: Broadcasting large task binary with size 1074.3 KiB\n",
      "25/02/09 17:38:31 WARN DAGScheduler: Broadcasting large task binary with size 1132.1 KiB\n",
      "25/02/09 17:38:38 WARN DAGScheduler: Broadcasting large task binary with size 1043.8 KiB\n",
      "25/02/09 17:38:45 WARN DAGScheduler: Broadcasting large task binary with size 1180.2 KiB\n",
      "25/02/09 17:38:46 WARN DAGScheduler: Broadcasting large task binary with size 1649.2 KiB\n",
      "25/02/09 17:38:48 WARN DAGScheduler: Broadcasting large task binary with size 2.2 MiB\n",
      "25/02/09 17:38:49 WARN DAGScheduler: Broadcasting large task binary with size 3.0 MiB\n",
      "25/02/09 17:38:57 WARN DAGScheduler: Broadcasting large task binary with size 1136.2 KiB\n",
      "25/02/09 17:38:58 WARN DAGScheduler: Broadcasting large task binary with size 1638.8 KiB\n",
      "25/02/09 17:38:58 WARN DAGScheduler: Broadcasting large task binary with size 2.3 MiB\n",
      "25/02/09 17:38:59 WARN DAGScheduler: Broadcasting large task binary with size 3.1 MiB\n",
      "25/02/09 17:39:07 WARN DAGScheduler: Broadcasting large task binary with size 1098.8 KiB\n",
      "25/02/09 17:39:07 WARN DAGScheduler: Broadcasting large task binary with size 1481.1 KiB\n",
      "25/02/09 17:39:09 WARN DAGScheduler: Broadcasting large task binary with size 1930.7 KiB\n",
      "25/02/09 17:39:10 WARN DAGScheduler: Broadcasting large task binary with size 2.4 MiB\n",
      "25/02/09 17:39:17 WARN DAGScheduler: Broadcasting large task binary with size 1056.7 KiB\n",
      "25/02/09 17:39:17 WARN DAGScheduler: Broadcasting large task binary with size 1453.5 KiB\n",
      "25/02/09 17:39:18 WARN DAGScheduler: Broadcasting large task binary with size 1939.4 KiB\n",
      "25/02/09 17:39:19 WARN DAGScheduler: Broadcasting large task binary with size 2.5 MiB\n",
      "25/02/09 17:39:26 WARN DAGScheduler: Broadcasting large task binary with size 1012.0 KiB\n",
      "25/02/09 17:39:27 WARN DAGScheduler: Broadcasting large task binary with size 1284.3 KiB\n",
      "25/02/09 17:39:28 WARN DAGScheduler: Broadcasting large task binary with size 1582.1 KiB\n",
      "25/02/09 17:39:29 WARN DAGScheduler: Broadcasting large task binary with size 1935.2 KiB\n",
      "25/02/09 17:39:36 WARN DAGScheduler: Broadcasting large task binary with size 1263.2 KiB\n",
      "25/02/09 17:39:36 WARN DAGScheduler: Broadcasting large task binary with size 1609.5 KiB\n",
      "25/02/09 17:39:37 WARN DAGScheduler: Broadcasting large task binary with size 1999.8 KiB\n",
      "25/02/09 17:39:44 WARN DAGScheduler: Broadcasting large task binary with size 1375.9 KiB\n",
      "25/02/09 17:39:46 WARN DAGScheduler: Broadcasting large task binary with size 2044.6 KiB\n",
      "25/02/09 17:39:48 WARN DAGScheduler: Broadcasting large task binary with size 2.9 MiB\n",
      "25/02/09 17:39:51 WARN DAGScheduler: Broadcasting large task binary with size 4.1 MiB\n",
      "25/02/09 17:39:54 WARN DAGScheduler: Broadcasting large task binary with size 5.6 MiB\n",
      "25/02/09 17:40:04 WARN DAGScheduler: Broadcasting large task binary with size 1283.0 KiB\n",
      "25/02/09 17:40:05 WARN DAGScheduler: Broadcasting large task binary with size 1979.5 KiB\n",
      "25/02/09 17:40:06 WARN DAGScheduler: Broadcasting large task binary with size 3.0 MiB\n",
      "25/02/09 17:40:07 WARN DAGScheduler: Broadcasting large task binary with size 4.3 MiB\n",
      "25/02/09 17:40:09 WARN DAGScheduler: Broadcasting large task binary with size 6.1 MiB\n",
      "25/02/09 17:40:18 WARN DAGScheduler: Broadcasting large task binary with size 1316.0 KiB\n",
      "25/02/09 17:40:20 WARN DAGScheduler: Broadcasting large task binary with size 1860.7 KiB\n",
      "25/02/09 17:40:21 WARN DAGScheduler: Broadcasting large task binary with size 2.5 MiB\n",
      "25/02/09 17:40:24 WARN DAGScheduler: Broadcasting large task binary with size 3.4 MiB\n",
      "25/02/09 17:40:26 WARN DAGScheduler: Broadcasting large task binary with size 4.5 MiB\n",
      "25/02/09 17:40:35 WARN DAGScheduler: Broadcasting large task binary with size 1226.0 KiB\n",
      "25/02/09 17:40:36 WARN DAGScheduler: Broadcasting large task binary with size 1815.0 KiB\n",
      "25/02/09 17:40:37 WARN DAGScheduler: Broadcasting large task binary with size 2.6 MiB\n",
      "25/02/09 17:40:38 WARN DAGScheduler: Broadcasting large task binary with size 3.6 MiB\n",
      "25/02/09 17:40:40 WARN DAGScheduler: Broadcasting large task binary with size 4.8 MiB\n",
      "25/02/09 17:40:49 WARN DAGScheduler: Broadcasting large task binary with size 1212.5 KiB\n",
      "25/02/09 17:40:50 WARN DAGScheduler: Broadcasting large task binary with size 1648.7 KiB\n",
      "25/02/09 17:40:51 WARN DAGScheduler: Broadcasting large task binary with size 2.2 MiB\n",
      "25/02/09 17:40:53 WARN DAGScheduler: Broadcasting large task binary with size 2.8 MiB\n",
      "25/02/09 17:40:56 WARN DAGScheduler: Broadcasting large task binary with size 3.5 MiB\n",
      "25/02/09 17:41:04 WARN DAGScheduler: Broadcasting large task binary with size 1152.6 KiB\n",
      "25/02/09 17:41:05 WARN DAGScheduler: Broadcasting large task binary with size 1635.6 KiB\n",
      "25/02/09 17:41:06 WARN DAGScheduler: Broadcasting large task binary with size 2.2 MiB\n",
      "25/02/09 17:41:07 WARN DAGScheduler: Broadcasting large task binary with size 3.0 MiB\n",
      "25/02/09 17:41:08 WARN DAGScheduler: Broadcasting large task binary with size 3.8 MiB\n",
      "25/02/09 17:41:16 WARN DAGScheduler: Broadcasting large task binary with size 1208.1 KiB\n",
      "25/02/09 17:41:17 WARN DAGScheduler: Broadcasting large task binary with size 1886.3 KiB\n",
      "25/02/09 17:41:19 WARN DAGScheduler: Broadcasting large task binary with size 2.8 MiB\n",
      "25/02/09 17:41:22 WARN DAGScheduler: Broadcasting large task binary with size 4.1 MiB\n",
      "25/02/09 17:41:26 WARN DAGScheduler: Broadcasting large task binary with size 5.9 MiB\n",
      "25/02/09 17:41:31 WARN DAGScheduler: Broadcasting large task binary with size 8.1 MiB\n",
      "25/02/09 17:41:33 WARN DAGScheduler: Broadcasting large task binary with size 1107.7 KiB\n",
      "25/02/09 17:41:43 WARN DAGScheduler: Broadcasting large task binary with size 1088.4 KiB\n",
      "25/02/09 17:41:43 WARN DAGScheduler: Broadcasting large task binary with size 1740.9 KiB\n",
      "25/02/09 17:41:44 WARN DAGScheduler: Broadcasting large task binary with size 2.7 MiB\n",
      "25/02/09 17:41:46 WARN DAGScheduler: Broadcasting large task binary with size 4.2 MiB\n",
      "25/02/09 17:41:48 WARN DAGScheduler: Broadcasting large task binary with size 6.3 MiB\n",
      "25/02/09 17:41:49 WARN DAGScheduler: Broadcasting large task binary with size 1130.0 KiB\n",
      "25/02/09 17:41:51 WARN DAGScheduler: Broadcasting large task binary with size 8.9 MiB\n",
      "25/02/09 17:41:53 WARN DAGScheduler: Broadcasting large task binary with size 1433.7 KiB\n",
      "25/02/09 17:42:01 WARN DAGScheduler: Broadcasting large task binary with size 1187.6 KiB\n",
      "25/02/09 17:42:02 WARN DAGScheduler: Broadcasting large task binary with size 1776.3 KiB\n",
      "25/02/09 17:42:05 WARN DAGScheduler: Broadcasting large task binary with size 2.5 MiB\n",
      "25/02/09 17:42:07 WARN DAGScheduler: Broadcasting large task binary with size 3.6 MiB\n",
      "25/02/09 17:42:11 WARN DAGScheduler: Broadcasting large task binary with size 4.9 MiB\n",
      "25/02/09 17:42:16 WARN DAGScheduler: Broadcasting large task binary with size 6.5 MiB\n",
      "25/02/09 17:42:26 WARN DAGScheduler: Broadcasting large task binary with size 1074.3 KiB\n",
      "25/02/09 17:42:27 WARN DAGScheduler: Broadcasting large task binary with size 1662.1 KiB\n",
      "25/02/09 17:42:28 WARN DAGScheduler: Broadcasting large task binary with size 2.5 MiB\n",
      "25/02/09 17:42:29 WARN DAGScheduler: Broadcasting large task binary with size 3.7 MiB\n",
      "25/02/09 17:42:31 WARN DAGScheduler: Broadcasting large task binary with size 5.2 MiB\n",
      "25/02/09 17:42:34 WARN DAGScheduler: Broadcasting large task binary with size 7.1 MiB\n",
      "25/02/09 17:42:35 WARN DAGScheduler: Broadcasting large task binary with size 1157.2 KiB\n",
      "25/02/09 17:42:43 WARN DAGScheduler: Broadcasting large task binary with size 1132.1 KiB\n",
      "25/02/09 17:42:45 WARN DAGScheduler: Broadcasting large task binary with size 1640.5 KiB\n",
      "25/02/09 17:42:47 WARN DAGScheduler: Broadcasting large task binary with size 2.3 MiB\n",
      "25/02/09 17:42:49 WARN DAGScheduler: Broadcasting large task binary with size 3.1 MiB\n",
      "25/02/09 17:42:52 WARN DAGScheduler: Broadcasting large task binary with size 4.0 MiB\n",
      "25/02/09 17:42:56 WARN DAGScheduler: Broadcasting large task binary with size 5.1 MiB\n",
      "25/02/09 17:43:06 WARN DAGScheduler: Broadcasting large task binary with size 1043.8 KiB\n",
      "25/02/09 17:43:07 WARN DAGScheduler: Broadcasting large task binary with size 1560.1 KiB\n",
      "25/02/09 17:43:08 WARN DAGScheduler: Broadcasting large task binary with size 2.2 MiB\n",
      "25/02/09 17:43:09 WARN DAGScheduler: Broadcasting large task binary with size 3.1 MiB\n",
      "25/02/09 17:43:11 WARN DAGScheduler: Broadcasting large task binary with size 4.2 MiB\n",
      "25/02/09 17:43:13 WARN DAGScheduler: Broadcasting large task binary with size 5.4 MiB\n",
      "25/02/09 17:45:48 WARN DAGScheduler: Broadcasting large task binary with size 1202.3 KiB\n",
      "25/02/09 17:45:54 WARN DAGScheduler: Broadcasting large task binary with size 1082.6 KiB\n",
      "25/02/09 17:46:02 WARN DAGScheduler: Broadcasting large task binary with size 1180.1 KiB\n",
      "25/02/09 17:46:08 WARN DAGScheduler: Broadcasting large task binary with size 1065.9 KiB\n",
      "25/02/09 17:46:15 WARN DAGScheduler: Broadcasting large task binary with size 1137.5 KiB\n",
      "25/02/09 17:46:21 WARN DAGScheduler: Broadcasting large task binary with size 1033.8 KiB\n",
      "25/02/09 17:46:28 WARN DAGScheduler: Broadcasting large task binary with size 1181.8 KiB\n",
      "25/02/09 17:46:29 WARN DAGScheduler: Broadcasting large task binary with size 1633.2 KiB\n",
      "25/02/09 17:46:30 WARN DAGScheduler: Broadcasting large task binary with size 2.2 MiB\n",
      "25/02/09 17:46:31 WARN DAGScheduler: Broadcasting large task binary with size 2.9 MiB\n",
      "25/02/09 17:46:38 WARN DAGScheduler: Broadcasting large task binary with size 1153.2 KiB\n",
      "25/02/09 17:46:39 WARN DAGScheduler: Broadcasting large task binary with size 1665.9 KiB\n",
      "25/02/09 17:46:40 WARN DAGScheduler: Broadcasting large task binary with size 2.3 MiB\n",
      "25/02/09 17:46:41 WARN DAGScheduler: Broadcasting large task binary with size 3.1 MiB\n",
      "25/02/09 17:46:47 WARN DAGScheduler: Broadcasting large task binary with size 1100.0 KiB\n",
      "25/02/09 17:46:48 WARN DAGScheduler: Broadcasting large task binary with size 1465.4 KiB\n",
      "25/02/09 17:46:49 WARN DAGScheduler: Broadcasting large task binary with size 1897.3 KiB\n",
      "25/02/09 17:46:51 WARN DAGScheduler: Broadcasting large task binary with size 2.3 MiB\n",
      "25/02/09 17:46:57 WARN DAGScheduler: Broadcasting large task binary with size 1071.9 KiB\n",
      "25/02/09 17:46:58 WARN DAGScheduler: Broadcasting large task binary with size 1472.1 KiB\n",
      "25/02/09 17:46:58 WARN DAGScheduler: Broadcasting large task binary with size 1981.4 KiB\n",
      "25/02/09 17:46:59 WARN DAGScheduler: Broadcasting large task binary with size 2.5 MiB\n",
      "25/02/09 17:47:06 WARN DAGScheduler: Broadcasting large task binary with size 1246.5 KiB\n",
      "25/02/09 17:47:07 WARN DAGScheduler: Broadcasting large task binary with size 1534.2 KiB\n",
      "25/02/09 17:47:08 WARN DAGScheduler: Broadcasting large task binary with size 1847.5 KiB\n",
      "25/02/09 17:47:15 WARN DAGScheduler: Broadcasting large task binary with size 1276.9 KiB\n",
      "25/02/09 17:47:15 WARN DAGScheduler: Broadcasting large task binary with size 1627.9 KiB\n",
      "25/02/09 17:47:16 WARN DAGScheduler: Broadcasting large task binary with size 2022.1 KiB\n",
      "25/02/09 17:47:23 WARN DAGScheduler: Broadcasting large task binary with size 1330.4 KiB\n",
      "25/02/09 17:47:24 WARN DAGScheduler: Broadcasting large task binary with size 1944.4 KiB\n",
      "25/02/09 17:47:26 WARN DAGScheduler: Broadcasting large task binary with size 2.8 MiB\n",
      "25/02/09 17:47:28 WARN DAGScheduler: Broadcasting large task binary with size 3.8 MiB\n",
      "25/02/09 17:47:31 WARN DAGScheduler: Broadcasting large task binary with size 5.2 MiB\n",
      "25/02/09 17:47:40 WARN DAGScheduler: Broadcasting large task binary with size 1248.0 KiB\n",
      "25/02/09 17:47:41 WARN DAGScheduler: Broadcasting large task binary with size 1896.0 KiB\n",
      "25/02/09 17:47:42 WARN DAGScheduler: Broadcasting large task binary with size 2.8 MiB\n",
      "25/02/09 17:47:43 WARN DAGScheduler: Broadcasting large task binary with size 4.1 MiB\n",
      "25/02/09 17:47:45 WARN DAGScheduler: Broadcasting large task binary with size 5.8 MiB\n",
      "25/02/09 17:47:54 WARN DAGScheduler: Broadcasting large task binary with size 1283.1 KiB\n",
      "25/02/09 17:47:55 WARN DAGScheduler: Broadcasting large task binary with size 1811.1 KiB\n",
      "25/02/09 17:47:57 WARN DAGScheduler: Broadcasting large task binary with size 2.4 MiB\n",
      "25/02/09 17:47:59 WARN DAGScheduler: Broadcasting large task binary with size 3.3 MiB\n",
      "25/02/09 17:48:02 WARN DAGScheduler: Broadcasting large task binary with size 4.2 MiB\n",
      "25/02/09 17:48:11 WARN DAGScheduler: Broadcasting large task binary with size 1200.6 KiB\n",
      "25/02/09 17:48:11 WARN DAGScheduler: Broadcasting large task binary with size 1766.9 KiB\n",
      "25/02/09 17:48:12 WARN DAGScheduler: Broadcasting large task binary with size 2.5 MiB\n",
      "25/02/09 17:48:14 WARN DAGScheduler: Broadcasting large task binary with size 3.5 MiB\n",
      "25/02/09 17:48:15 WARN DAGScheduler: Broadcasting large task binary with size 4.6 MiB\n",
      "25/02/09 17:48:23 WARN DAGScheduler: Broadcasting large task binary with size 1187.7 KiB\n",
      "25/02/09 17:48:24 WARN DAGScheduler: Broadcasting large task binary with size 1606.8 KiB\n",
      "25/02/09 17:48:26 WARN DAGScheduler: Broadcasting large task binary with size 2.1 MiB\n",
      "25/02/09 17:48:28 WARN DAGScheduler: Broadcasting large task binary with size 2.7 MiB\n",
      "25/02/09 17:48:30 WARN DAGScheduler: Broadcasting large task binary with size 3.4 MiB\n",
      "25/02/09 17:48:38 WARN DAGScheduler: Broadcasting large task binary with size 1129.9 KiB\n",
      "25/02/09 17:48:39 WARN DAGScheduler: Broadcasting large task binary with size 1560.6 KiB\n",
      "25/02/09 17:48:40 WARN DAGScheduler: Broadcasting large task binary with size 2.1 MiB\n",
      "25/02/09 17:48:41 WARN DAGScheduler: Broadcasting large task binary with size 2.8 MiB\n",
      "25/02/09 17:48:42 WARN DAGScheduler: Broadcasting large task binary with size 3.5 MiB\n",
      "25/02/09 17:48:49 WARN DAGScheduler: Broadcasting large task binary with size 1202.3 KiB\n",
      "25/02/09 17:48:51 WARN DAGScheduler: Broadcasting large task binary with size 1862.7 KiB\n",
      "25/02/09 17:48:53 WARN DAGScheduler: Broadcasting large task binary with size 2.8 MiB\n",
      "25/02/09 17:48:56 WARN DAGScheduler: Broadcasting large task binary with size 4.1 MiB\n",
      "25/02/09 17:49:00 WARN DAGScheduler: Broadcasting large task binary with size 5.7 MiB\n",
      "25/02/09 17:49:05 WARN DAGScheduler: Broadcasting large task binary with size 7.8 MiB\n",
      "25/02/09 17:49:07 WARN DAGScheduler: Broadcasting large task binary with size 1066.8 KiB\n",
      "25/02/09 17:49:17 WARN DAGScheduler: Broadcasting large task binary with size 1082.6 KiB\n",
      "25/02/09 17:49:18 WARN DAGScheduler: Broadcasting large task binary with size 1715.4 KiB\n",
      "25/02/09 17:49:19 WARN DAGScheduler: Broadcasting large task binary with size 2.6 MiB\n",
      "25/02/09 17:49:21 WARN DAGScheduler: Broadcasting large task binary with size 4.1 MiB\n",
      "25/02/09 17:49:23 WARN DAGScheduler: Broadcasting large task binary with size 6.0 MiB\n",
      "25/02/09 17:49:24 WARN DAGScheduler: Broadcasting large task binary with size 1076.4 KiB\n",
      "25/02/09 17:49:26 WARN DAGScheduler: Broadcasting large task binary with size 8.5 MiB\n",
      "25/02/09 17:49:27 WARN DAGScheduler: Broadcasting large task binary with size 1356.4 KiB\n",
      "25/02/09 17:49:36 WARN DAGScheduler: Broadcasting large task binary with size 1180.1 KiB\n",
      "25/02/09 17:49:37 WARN DAGScheduler: Broadcasting large task binary with size 1770.2 KiB\n",
      "25/02/09 17:49:39 WARN DAGScheduler: Broadcasting large task binary with size 2.5 MiB\n",
      "25/02/09 17:49:42 WARN DAGScheduler: Broadcasting large task binary with size 3.6 MiB\n",
      "25/02/09 17:49:46 WARN DAGScheduler: Broadcasting large task binary with size 4.9 MiB\n",
      "25/02/09 17:49:50 WARN DAGScheduler: Broadcasting large task binary with size 6.3 MiB\n",
      "25/02/09 17:50:01 WARN DAGScheduler: Broadcasting large task binary with size 1065.9 KiB\n",
      "25/02/09 17:50:01 WARN DAGScheduler: Broadcasting large task binary with size 1633.0 KiB\n",
      "25/02/09 17:50:03 WARN DAGScheduler: Broadcasting large task binary with size 2.4 MiB\n",
      "25/02/09 17:50:04 WARN DAGScheduler: Broadcasting large task binary with size 3.5 MiB\n",
      "25/02/09 17:50:06 WARN DAGScheduler: Broadcasting large task binary with size 5.0 MiB\n",
      "25/02/09 17:50:09 WARN DAGScheduler: Broadcasting large task binary with size 6.6 MiB\n",
      "25/02/09 17:50:10 WARN DAGScheduler: Broadcasting large task binary with size 1056.0 KiB\n",
      "25/02/09 17:50:18 WARN DAGScheduler: Broadcasting large task binary with size 1137.5 KiB\n",
      "25/02/09 17:50:19 WARN DAGScheduler: Broadcasting large task binary with size 1633.8 KiB\n",
      "25/02/09 17:50:21 WARN DAGScheduler: Broadcasting large task binary with size 2.2 MiB\n",
      "25/02/09 17:50:24 WARN DAGScheduler: Broadcasting large task binary with size 3.0 MiB\n",
      "25/02/09 17:50:27 WARN DAGScheduler: Broadcasting large task binary with size 3.9 MiB\n",
      "25/02/09 17:50:30 WARN DAGScheduler: Broadcasting large task binary with size 4.9 MiB\n",
      "25/02/09 17:50:39 WARN DAGScheduler: Broadcasting large task binary with size 1033.8 KiB\n",
      "25/02/09 17:50:40 WARN DAGScheduler: Broadcasting large task binary with size 1517.1 KiB\n",
      "25/02/09 17:50:41 WARN DAGScheduler: Broadcasting large task binary with size 2.1 MiB\n",
      "25/02/09 17:50:42 WARN DAGScheduler: Broadcasting large task binary with size 3.0 MiB\n",
      "25/02/09 17:50:43 WARN DAGScheduler: Broadcasting large task binary with size 4.0 MiB\n",
      "25/02/09 17:50:45 WARN DAGScheduler: Broadcasting large task binary with size 5.2 MiB\n",
      "25/02/09 17:53:25 WARN DAGScheduler: Broadcasting large task binary with size 1204.5 KiB\n",
      "25/02/09 17:53:32 WARN DAGScheduler: Broadcasting large task binary with size 1084.6 KiB\n",
      "25/02/09 17:53:39 WARN DAGScheduler: Broadcasting large task binary with size 1185.2 KiB\n",
      "25/02/09 17:53:46 WARN DAGScheduler: Broadcasting large task binary with size 1066.8 KiB\n",
      "25/02/09 17:53:53 WARN DAGScheduler: Broadcasting large task binary with size 1140.3 KiB\n",
      "25/02/09 17:54:00 WARN DAGScheduler: Broadcasting large task binary with size 1037.5 KiB\n",
      "25/02/09 17:54:06 WARN DAGScheduler: Broadcasting large task binary with size 1167.0 KiB\n",
      "25/02/09 17:54:07 WARN DAGScheduler: Broadcasting large task binary with size 1621.1 KiB\n",
      "25/02/09 17:54:09 WARN DAGScheduler: Broadcasting large task binary with size 2.2 MiB\n",
      "25/02/09 17:54:10 WARN DAGScheduler: Broadcasting large task binary with size 2.9 MiB\n",
      "25/02/09 17:54:18 WARN DAGScheduler: Broadcasting large task binary with size 1120.7 KiB\n",
      "25/02/09 17:54:18 WARN DAGScheduler: Broadcasting large task binary with size 1605.6 KiB\n",
      "25/02/09 17:54:19 WARN DAGScheduler: Broadcasting large task binary with size 2.2 MiB\n",
      "25/02/09 17:54:20 WARN DAGScheduler: Broadcasting large task binary with size 3.0 MiB\n",
      "25/02/09 17:54:27 WARN DAGScheduler: Broadcasting large task binary with size 1085.9 KiB\n",
      "25/02/09 17:54:28 WARN DAGScheduler: Broadcasting large task binary with size 1441.7 KiB\n",
      "25/02/09 17:54:29 WARN DAGScheduler: Broadcasting large task binary with size 1898.0 KiB\n",
      "25/02/09 17:54:31 WARN DAGScheduler: Broadcasting large task binary with size 2.4 MiB\n",
      "25/02/09 17:54:38 WARN DAGScheduler: Broadcasting large task binary with size 1049.1 KiB\n",
      "25/02/09 17:54:38 WARN DAGScheduler: Broadcasting large task binary with size 1440.9 KiB\n",
      "25/02/09 17:54:39 WARN DAGScheduler: Broadcasting large task binary with size 1947.9 KiB\n",
      "25/02/09 17:54:40 WARN DAGScheduler: Broadcasting large task binary with size 2.5 MiB\n",
      "25/02/09 17:54:47 WARN DAGScheduler: Broadcasting large task binary with size 1253.2 KiB\n",
      "25/02/09 17:54:48 WARN DAGScheduler: Broadcasting large task binary with size 1563.2 KiB\n",
      "25/02/09 17:54:49 WARN DAGScheduler: Broadcasting large task binary with size 1932.3 KiB\n",
      "25/02/09 17:54:57 WARN DAGScheduler: Broadcasting large task binary with size 1247.0 KiB\n",
      "25/02/09 17:54:57 WARN DAGScheduler: Broadcasting large task binary with size 1589.6 KiB\n",
      "25/02/09 17:54:58 WARN DAGScheduler: Broadcasting large task binary with size 1980.2 KiB\n",
      "25/02/09 17:55:05 WARN DAGScheduler: Broadcasting large task binary with size 1360.3 KiB\n",
      "25/02/09 17:55:07 WARN DAGScheduler: Broadcasting large task binary with size 2013.0 KiB\n",
      "25/02/09 17:55:09 WARN DAGScheduler: Broadcasting large task binary with size 2.9 MiB\n",
      "25/02/09 17:55:12 WARN DAGScheduler: Broadcasting large task binary with size 4.0 MiB\n",
      "25/02/09 17:55:15 WARN DAGScheduler: Broadcasting large task binary with size 5.5 MiB\n",
      "25/02/09 17:55:25 WARN DAGScheduler: Broadcasting large task binary with size 1251.6 KiB\n",
      "25/02/09 17:55:26 WARN DAGScheduler: Broadcasting large task binary with size 1908.5 KiB\n",
      "25/02/09 17:55:27 WARN DAGScheduler: Broadcasting large task binary with size 2.8 MiB\n",
      "25/02/09 17:55:28 WARN DAGScheduler: Broadcasting large task binary with size 4.1 MiB\n",
      "25/02/09 17:55:30 WARN DAGScheduler: Broadcasting large task binary with size 5.7 MiB\n",
      "25/02/09 17:55:39 WARN DAGScheduler: Broadcasting large task binary with size 1308.0 KiB\n",
      "25/02/09 17:55:40 WARN DAGScheduler: Broadcasting large task binary with size 1847.8 KiB\n",
      "25/02/09 17:55:42 WARN DAGScheduler: Broadcasting large task binary with size 2.5 MiB\n",
      "25/02/09 17:55:44 WARN DAGScheduler: Broadcasting large task binary with size 3.4 MiB\n",
      "25/02/09 17:55:47 WARN DAGScheduler: Broadcasting large task binary with size 4.5 MiB\n",
      "25/02/09 17:55:56 WARN DAGScheduler: Broadcasting large task binary with size 1209.2 KiB\n",
      "25/02/09 17:55:56 WARN DAGScheduler: Broadcasting large task binary with size 1749.2 KiB\n",
      "25/02/09 17:55:57 WARN DAGScheduler: Broadcasting large task binary with size 2.5 MiB\n",
      "25/02/09 17:55:58 WARN DAGScheduler: Broadcasting large task binary with size 3.4 MiB\n",
      "25/02/09 17:56:00 WARN DAGScheduler: Broadcasting large task binary with size 4.6 MiB\n",
      "25/02/09 17:56:08 WARN DAGScheduler: Broadcasting large task binary with size 1206.2 KiB\n",
      "25/02/09 17:56:09 WARN DAGScheduler: Broadcasting large task binary with size 1628.2 KiB\n",
      "25/02/09 17:56:11 WARN DAGScheduler: Broadcasting large task binary with size 2.1 MiB\n",
      "25/02/09 17:56:13 WARN DAGScheduler: Broadcasting large task binary with size 2.8 MiB\n",
      "25/02/09 17:56:15 WARN DAGScheduler: Broadcasting large task binary with size 3.5 MiB\n",
      "25/02/09 17:56:23 WARN DAGScheduler: Broadcasting large task binary with size 1123.7 KiB\n",
      "25/02/09 17:56:23 WARN DAGScheduler: Broadcasting large task binary with size 1574.3 KiB\n",
      "25/02/09 17:56:24 WARN DAGScheduler: Broadcasting large task binary with size 2.1 MiB\n",
      "25/02/09 17:56:25 WARN DAGScheduler: Broadcasting large task binary with size 2.8 MiB\n",
      "25/02/09 17:56:26 WARN DAGScheduler: Broadcasting large task binary with size 3.6 MiB\n",
      "25/02/09 17:56:34 WARN DAGScheduler: Broadcasting large task binary with size 1204.5 KiB\n",
      "25/02/09 17:56:35 WARN DAGScheduler: Broadcasting large task binary with size 1860.8 KiB\n",
      "25/02/09 17:56:38 WARN DAGScheduler: Broadcasting large task binary with size 2.8 MiB\n",
      "25/02/09 17:56:41 WARN DAGScheduler: Broadcasting large task binary with size 4.1 MiB\n",
      "25/02/09 17:56:45 WARN DAGScheduler: Broadcasting large task binary with size 5.8 MiB\n",
      "25/02/09 17:56:50 WARN DAGScheduler: Broadcasting large task binary with size 7.9 MiB\n",
      "25/02/09 17:56:52 WARN DAGScheduler: Broadcasting large task binary with size 1090.1 KiB\n",
      "25/02/09 17:57:01 WARN DAGScheduler: Broadcasting large task binary with size 1084.6 KiB\n",
      "25/02/09 17:57:02 WARN DAGScheduler: Broadcasting large task binary with size 1716.0 KiB\n",
      "25/02/09 17:57:03 WARN DAGScheduler: Broadcasting large task binary with size 2.7 MiB\n",
      "25/02/09 17:57:05 WARN DAGScheduler: Broadcasting large task binary with size 4.1 MiB\n",
      "25/02/09 17:57:07 WARN DAGScheduler: Broadcasting large task binary with size 6.1 MiB\n",
      "25/02/09 17:57:08 WARN DAGScheduler: Broadcasting large task binary with size 1102.1 KiB\n",
      "25/02/09 17:57:10 WARN DAGScheduler: Broadcasting large task binary with size 8.7 MiB\n",
      "25/02/09 17:57:12 WARN DAGScheduler: Broadcasting large task binary with size 1412.2 KiB\n",
      "25/02/09 17:57:21 WARN DAGScheduler: Broadcasting large task binary with size 1185.2 KiB\n",
      "25/02/09 17:57:22 WARN DAGScheduler: Broadcasting large task binary with size 1770.7 KiB\n",
      "25/02/09 17:57:24 WARN DAGScheduler: Broadcasting large task binary with size 2.5 MiB\n",
      "25/02/09 17:57:27 WARN DAGScheduler: Broadcasting large task binary with size 3.6 MiB\n",
      "25/02/09 17:57:30 WARN DAGScheduler: Broadcasting large task binary with size 4.9 MiB\n",
      "25/02/09 17:57:35 WARN DAGScheduler: Broadcasting large task binary with size 6.4 MiB\n",
      "25/02/09 17:57:45 WARN DAGScheduler: Broadcasting large task binary with size 1066.8 KiB\n",
      "25/02/09 17:57:46 WARN DAGScheduler: Broadcasting large task binary with size 1626.5 KiB\n",
      "25/02/09 17:57:47 WARN DAGScheduler: Broadcasting large task binary with size 2.4 MiB\n",
      "25/02/09 17:57:49 WARN DAGScheduler: Broadcasting large task binary with size 3.6 MiB\n",
      "25/02/09 17:57:50 WARN DAGScheduler: Broadcasting large task binary with size 5.1 MiB\n",
      "25/02/09 17:57:53 WARN DAGScheduler: Broadcasting large task binary with size 6.9 MiB\n",
      "25/02/09 17:57:54 WARN DAGScheduler: Broadcasting large task binary with size 1120.4 KiB\n",
      "25/02/09 17:58:02 WARN DAGScheduler: Broadcasting large task binary with size 1140.3 KiB\n",
      "25/02/09 17:58:03 WARN DAGScheduler: Broadcasting large task binary with size 1630.2 KiB\n",
      "25/02/09 17:58:05 WARN DAGScheduler: Broadcasting large task binary with size 2.2 MiB\n",
      "25/02/09 17:58:08 WARN DAGScheduler: Broadcasting large task binary with size 3.0 MiB\n",
      "25/02/09 17:58:11 WARN DAGScheduler: Broadcasting large task binary with size 3.9 MiB\n",
      "25/02/09 17:58:14 WARN DAGScheduler: Broadcasting large task binary with size 4.9 MiB\n",
      "25/02/09 17:58:24 WARN DAGScheduler: Broadcasting large task binary with size 1037.5 KiB\n",
      "25/02/09 17:58:24 WARN DAGScheduler: Broadcasting large task binary with size 1524.6 KiB\n",
      "25/02/09 17:58:26 WARN DAGScheduler: Broadcasting large task binary with size 2.1 MiB\n",
      "25/02/09 17:58:27 WARN DAGScheduler: Broadcasting large task binary with size 3.0 MiB\n",
      "25/02/09 17:58:29 WARN DAGScheduler: Broadcasting large task binary with size 4.1 MiB\n",
      "25/02/09 17:58:31 WARN DAGScheduler: Broadcasting large task binary with size 5.3 MiB\n",
      "25/02/09 18:01:14 WARN DAGScheduler: Broadcasting large task binary with size 1226.6 KiB\n",
      "25/02/09 18:01:22 WARN DAGScheduler: Broadcasting large task binary with size 1088.7 KiB\n",
      "25/02/09 18:01:29 WARN DAGScheduler: Broadcasting large task binary with size 1203.4 KiB\n",
      "25/02/09 18:01:36 WARN DAGScheduler: Broadcasting large task binary with size 1080.1 KiB\n",
      "25/02/09 18:01:44 WARN DAGScheduler: Broadcasting large task binary with size 1145.5 KiB\n",
      "25/02/09 18:01:51 WARN DAGScheduler: Broadcasting large task binary with size 1046.2 KiB\n",
      "25/02/09 18:01:57 WARN DAGScheduler: Broadcasting large task binary with size 1179.9 KiB\n",
      "25/02/09 18:01:58 WARN DAGScheduler: Broadcasting large task binary with size 1645.0 KiB\n",
      "25/02/09 18:01:59 WARN DAGScheduler: Broadcasting large task binary with size 2.2 MiB\n",
      "25/02/09 18:02:01 WARN DAGScheduler: Broadcasting large task binary with size 2.9 MiB\n",
      "25/02/09 18:02:08 WARN DAGScheduler: Broadcasting large task binary with size 1163.6 KiB\n",
      "25/02/09 18:02:09 WARN DAGScheduler: Broadcasting large task binary with size 1695.5 KiB\n",
      "25/02/09 18:02:10 WARN DAGScheduler: Broadcasting large task binary with size 2.3 MiB\n",
      "25/02/09 18:02:11 WARN DAGScheduler: Broadcasting large task binary with size 3.2 MiB\n",
      "25/02/09 18:02:18 WARN DAGScheduler: Broadcasting large task binary with size 1101.4 KiB\n",
      "25/02/09 18:02:19 WARN DAGScheduler: Broadcasting large task binary with size 1465.5 KiB\n",
      "25/02/09 18:02:20 WARN DAGScheduler: Broadcasting large task binary with size 1908.1 KiB\n",
      "25/02/09 18:02:21 WARN DAGScheduler: Broadcasting large task binary with size 2.4 MiB\n",
      "25/02/09 18:02:28 WARN DAGScheduler: Broadcasting large task binary with size 1087.1 KiB\n",
      "25/02/09 18:02:29 WARN DAGScheduler: Broadcasting large task binary with size 1499.9 KiB\n",
      "25/02/09 18:02:30 WARN DAGScheduler: Broadcasting large task binary with size 2014.9 KiB\n",
      "25/02/09 18:02:31 WARN DAGScheduler: Broadcasting large task binary with size 2.6 MiB\n",
      "25/02/09 18:02:37 WARN DAGScheduler: Broadcasting large task binary with size 1007.9 KiB\n",
      "25/02/09 18:02:38 WARN DAGScheduler: Broadcasting large task binary with size 1284.6 KiB\n",
      "25/02/09 18:02:39 WARN DAGScheduler: Broadcasting large task binary with size 1601.8 KiB\n",
      "25/02/09 18:02:40 WARN DAGScheduler: Broadcasting large task binary with size 1955.2 KiB\n",
      "25/02/09 18:02:47 WARN DAGScheduler: Broadcasting large task binary with size 1308.5 KiB\n",
      "25/02/09 18:02:48 WARN DAGScheduler: Broadcasting large task binary with size 1674.9 KiB\n",
      "25/02/09 18:02:49 WARN DAGScheduler: Broadcasting large task binary with size 2.0 MiB\n",
      "25/02/09 18:02:56 WARN DAGScheduler: Broadcasting large task binary with size 1390.0 KiB\n",
      "25/02/09 18:02:58 WARN DAGScheduler: Broadcasting large task binary with size 2.0 MiB\n",
      "25/02/09 18:03:00 WARN DAGScheduler: Broadcasting large task binary with size 2.9 MiB\n",
      "25/02/09 18:03:03 WARN DAGScheduler: Broadcasting large task binary with size 4.1 MiB\n",
      "25/02/09 18:03:06 WARN DAGScheduler: Broadcasting large task binary with size 5.6 MiB\n",
      "25/02/09 18:03:16 WARN DAGScheduler: Broadcasting large task binary with size 1272.0 KiB\n",
      "25/02/09 18:03:17 WARN DAGScheduler: Broadcasting large task binary with size 1956.2 KiB\n",
      "25/02/09 18:03:18 WARN DAGScheduler: Broadcasting large task binary with size 2.9 MiB\n",
      "25/02/09 18:03:19 WARN DAGScheduler: Broadcasting large task binary with size 4.3 MiB\n",
      "25/02/09 18:03:21 WARN DAGScheduler: Broadcasting large task binary with size 6.0 MiB\n",
      "25/02/09 18:03:31 WARN DAGScheduler: Broadcasting large task binary with size 1333.3 KiB\n",
      "25/02/09 18:03:32 WARN DAGScheduler: Broadcasting large task binary with size 1899.0 KiB\n",
      "25/02/09 18:03:34 WARN DAGScheduler: Broadcasting large task binary with size 2.6 MiB\n",
      "25/02/09 18:03:36 WARN DAGScheduler: Broadcasting large task binary with size 3.5 MiB\n",
      "25/02/09 18:03:39 WARN DAGScheduler: Broadcasting large task binary with size 4.6 MiB\n",
      "25/02/09 18:03:49 WARN DAGScheduler: Broadcasting large task binary with size 1222.9 KiB\n",
      "25/02/09 18:03:50 WARN DAGScheduler: Broadcasting large task binary with size 1801.0 KiB\n",
      "25/02/09 18:03:51 WARN DAGScheduler: Broadcasting large task binary with size 2.6 MiB\n",
      "25/02/09 18:03:52 WARN DAGScheduler: Broadcasting large task binary with size 3.5 MiB\n",
      "25/02/09 18:03:54 WARN DAGScheduler: Broadcasting large task binary with size 4.7 MiB\n",
      "25/02/09 18:04:02 WARN DAGScheduler: Broadcasting large task binary with size 1239.2 KiB\n",
      "25/02/09 18:04:03 WARN DAGScheduler: Broadcasting large task binary with size 1702.4 KiB\n",
      "25/02/09 18:04:05 WARN DAGScheduler: Broadcasting large task binary with size 2.2 MiB\n",
      "25/02/09 18:04:07 WARN DAGScheduler: Broadcasting large task binary with size 2.9 MiB\n",
      "25/02/09 18:04:09 WARN DAGScheduler: Broadcasting large task binary with size 3.6 MiB\n",
      "25/02/09 18:04:17 WARN DAGScheduler: Broadcasting large task binary with size 1152.1 KiB\n",
      "25/02/09 18:04:17 WARN DAGScheduler: Broadcasting large task binary with size 1615.9 KiB\n",
      "25/02/09 18:04:18 WARN DAGScheduler: Broadcasting large task binary with size 2.2 MiB\n",
      "25/02/09 18:04:19 WARN DAGScheduler: Broadcasting large task binary with size 2.9 MiB\n",
      "25/02/09 18:04:20 WARN DAGScheduler: Broadcasting large task binary with size 3.6 MiB\n",
      "25/02/09 18:04:28 WARN DAGScheduler: Broadcasting large task binary with size 1226.6 KiB\n",
      "25/02/09 18:04:29 WARN DAGScheduler: Broadcasting large task binary with size 1913.5 KiB\n",
      "25/02/09 18:04:31 WARN DAGScheduler: Broadcasting large task binary with size 2.9 MiB\n",
      "25/02/09 18:04:34 WARN DAGScheduler: Broadcasting large task binary with size 4.2 MiB\n",
      "25/02/09 18:04:38 WARN DAGScheduler: Broadcasting large task binary with size 6.1 MiB\n",
      "25/02/09 18:04:43 WARN DAGScheduler: Broadcasting large task binary with size 8.3 MiB\n",
      "25/02/09 18:04:45 WARN DAGScheduler: Broadcasting large task binary with size 1155.4 KiB\n",
      "25/02/09 18:04:54 WARN DAGScheduler: Broadcasting large task binary with size 1088.7 KiB\n",
      "25/02/09 18:04:55 WARN DAGScheduler: Broadcasting large task binary with size 1744.6 KiB\n",
      "25/02/09 18:04:56 WARN DAGScheduler: Broadcasting large task binary with size 2.7 MiB\n",
      "25/02/09 18:04:58 WARN DAGScheduler: Broadcasting large task binary with size 4.3 MiB\n",
      "25/02/09 18:05:00 WARN DAGScheduler: Broadcasting large task binary with size 6.4 MiB\n",
      "25/02/09 18:05:01 WARN DAGScheduler: Broadcasting large task binary with size 1151.3 KiB\n",
      "25/02/09 18:05:03 WARN DAGScheduler: Broadcasting large task binary with size 9.0 MiB\n",
      "25/02/09 18:05:04 WARN DAGScheduler: Broadcasting large task binary with size 1449.7 KiB\n",
      "25/02/09 18:05:12 WARN DAGScheduler: Broadcasting large task binary with size 1203.4 KiB\n",
      "25/02/09 18:05:14 WARN DAGScheduler: Broadcasting large task binary with size 1802.3 KiB\n",
      "25/02/09 18:05:16 WARN DAGScheduler: Broadcasting large task binary with size 2.6 MiB\n",
      "25/02/09 18:05:18 WARN DAGScheduler: Broadcasting large task binary with size 3.7 MiB\n",
      "25/02/09 18:05:22 WARN DAGScheduler: Broadcasting large task binary with size 5.0 MiB\n",
      "25/02/09 18:05:26 WARN DAGScheduler: Broadcasting large task binary with size 6.5 MiB\n",
      "25/02/09 18:05:36 WARN DAGScheduler: Broadcasting large task binary with size 1080.1 KiB\n",
      "25/02/09 18:05:37 WARN DAGScheduler: Broadcasting large task binary with size 1681.6 KiB\n",
      "25/02/09 18:05:38 WARN DAGScheduler: Broadcasting large task binary with size 2.5 MiB\n",
      "25/02/09 18:05:39 WARN DAGScheduler: Broadcasting large task binary with size 3.7 MiB\n",
      "25/02/09 18:05:41 WARN DAGScheduler: Broadcasting large task binary with size 5.3 MiB\n",
      "25/02/09 18:05:44 WARN DAGScheduler: Broadcasting large task binary with size 7.2 MiB\n",
      "25/02/09 18:05:45 WARN DAGScheduler: Broadcasting large task binary with size 1156.6 KiB\n",
      "25/02/09 18:05:53 WARN DAGScheduler: Broadcasting large task binary with size 1145.5 KiB\n",
      "25/02/09 18:05:54 WARN DAGScheduler: Broadcasting large task binary with size 1646.4 KiB\n",
      "25/02/09 18:05:56 WARN DAGScheduler: Broadcasting large task binary with size 2.3 MiB\n",
      "25/02/09 18:05:58 WARN DAGScheduler: Broadcasting large task binary with size 3.1 MiB\n",
      "25/02/09 18:06:01 WARN DAGScheduler: Broadcasting large task binary with size 4.0 MiB\n",
      "25/02/09 18:06:04 WARN DAGScheduler: Broadcasting large task binary with size 5.0 MiB\n",
      "25/02/09 18:06:13 WARN DAGScheduler: Broadcasting large task binary with size 1046.2 KiB\n",
      "25/02/09 18:06:14 WARN DAGScheduler: Broadcasting large task binary with size 1582.3 KiB\n",
      "25/02/09 18:06:15 WARN DAGScheduler: Broadcasting large task binary with size 2.3 MiB\n",
      "25/02/09 18:06:16 WARN DAGScheduler: Broadcasting large task binary with size 3.2 MiB\n",
      "25/02/09 18:06:18 WARN DAGScheduler: Broadcasting large task binary with size 4.3 MiB\n",
      "25/02/09 18:06:20 WARN DAGScheduler: Broadcasting large task binary with size 5.6 MiB\n",
      "                                                                                \r"
     ]
    }
   ],
   "source": [
    "paramGrid_rf = ParamGridBuilder() \\\n",
    "                .addGrid(rf.numTrees, [25, 50, 100]) \\\n",
    "                .addGrid(rf.maxDepth, [2, 5, 10]) \\\n",
    "                .addGrid(rf.minInstancesPerNode, [2, 5, 10, 15])\\\n",
    "                .addGrid(rf.featureSubsetStrategy, [\"sqrt\", \"log2\"])\\\n",
    "                .build()\n",
    "\n",
    "cv_rf = CrossValidator().setEstimator(pipelineRF) \\\n",
    "                           .setEstimatorParamMaps(paramGrid_rf) \\\n",
    "                           .setNumFolds(5) \\\n",
    "                           .setEvaluator(RegressionEvaluator(metricName=\"mae\", labelCol=\"cit1year\"))\n",
    "\n",
    "cvRFmodel = cv_rf.fit(train)"
   ]
  },
  {
   "cell_type": "code",
   "execution_count": 62,
   "metadata": {},
   "outputs": [
    {
     "name": "stdout",
     "output_type": "stream",
     "text": [
      "[8.843729782308003, 8.820109797776757, 8.79170530920466, 8.815756238570495, 8.72450188889209, 8.797367100185387, 8.774548827079997, 8.803190751518192, 8.718704763372493, 8.758245985683217, 8.690868848468263, 8.754989861640425, 8.757459148032481, 8.804318044940064, 8.75813881920803, 8.783991137198075, 8.697915921950983, 8.748896485048968, 9.206553248796249, 9.058580609658113, 8.881578942304879, 8.907980468937007, 8.762888637056891, 8.746871785168038, 9.047007171294, 8.945488671693075, 8.803817728527426, 8.768284437878055, 8.649013598226393, 8.736114678186361, 8.98845986869651, 8.953358966462469, 8.82210281379367, 8.80228082746953, 8.693980882174461, 8.6646421508989, 9.636236447767804, 9.432821098029777, 9.036699566967712, 9.012356938276351, 8.798611730785757, 8.752774659585816, 9.401261472146718, 9.3109184847017, 8.900066518423388, 8.868732798620306, 8.671170196350982, 8.730737234572624, 9.34857507683044, 9.299403415871307, 8.928911356701978, 8.90126057584673, 8.692388680016398, 8.662911565565778]\n"
     ]
    },
    {
     "data": {
      "text/plain": [
       "{Param(parent='RandomForestRegressor_67274762f303', name='numTrees', doc='Number of trees to train (>= 1).'): 50,\n",
       " Param(parent='RandomForestRegressor_67274762f303', name='maxDepth', doc='Maximum depth of the tree. (>= 0) E.g., depth 0 means 1 leaf node; depth 1 means 1 internal node + 2 leaf nodes. Must be in range [0, 30].'): 10,\n",
       " Param(parent='RandomForestRegressor_67274762f303', name='minInstancesPerNode', doc='Minimum number of instances each child must have after split. If a split causes the left or right child to have fewer than minInstancesPerNode, the split will be discarded as invalid. Should be >= 1.'): 2,\n",
       " Param(parent='RandomForestRegressor_67274762f303', name='featureSubsetStrategy', doc=\"The number of features to consider for splits at each tree node. Supported options: 'auto' (choose automatically for task: If numTrees == 1, set to 'all'. If numTrees > 1 (forest), set to 'sqrt' for classification and to 'onethird' for regression), 'all' (use all features), 'onethird' (use 1/3 of the features), 'sqrt' (use sqrt(number of features)), 'log2' (use log2(number of features)), 'n' (when n is in the range (0, 1.0], use n * number of features. When n is in the range (1, number of features), use n features). default = 'auto'\"): 'sqrt'}"
      ]
     },
     "execution_count": 62,
     "metadata": {},
     "output_type": "execute_result"
    }
   ],
   "source": [
    "# Afficher les valeurs AUC obtenues pour les combinaisons de la grille\n",
    "print(cvRFmodel.avgMetrics)\n",
    "\n",
    "# Afficher les meilleures valeurs pour les hyperparamètres\n",
    "cvRFmodel.getEstimatorParamMaps()[cvRFmodel.avgMetrics.index(max(cvRFmodel.avgMetrics))]"
   ]
  },
  {
   "cell_type": "code",
   "execution_count": null,
   "metadata": {},
   "outputs": [
    {
     "name": "stdout",
     "output_type": "stream",
     "text": [
      "     Feature Index  Importance\n",
      "0                0    0.001604\n",
      "1                1    0.000000\n",
      "2                2    0.000000\n",
      "3                3    0.002450\n",
      "4                4    0.007145\n",
      "..             ...         ...\n",
      "798            798    0.000000\n",
      "799            799    0.000201\n",
      "800            800    0.000000\n",
      "801            801    0.000826\n",
      "802            802    0.001400\n",
      "\n",
      "[803 rows x 2 columns]\n"
     ]
    }
   ],
   "source": [
    "# Check the importance of features\n",
    "best_RFmodel = cvRFmodel.bestModel.stages[-1]\n",
    "feature_importances = best_RFmodel.featureImportances\n",
    "\n",
    "# Transform the result into a DataFrame for visualization\n",
    "importances_df = pd.DataFrame(list(zip(range(len(feature_importances)), feature_importances)), columns=['Feature Index', 'Importance'])\n",
    "print(importances_df)"
   ]
  },
  {
   "cell_type": "code",
   "execution_count": 55,
   "metadata": {},
   "outputs": [],
   "source": [
    "cvRFmodel.write().overwrite().save(f\"{folder_models}/cvRF_model_fullEmbed\")"
   ]
  },
  {
   "cell_type": "markdown",
   "metadata": {},
   "source": [
    "# Comparaison des modèles sur les données de test"
   ]
  },
  {
   "cell_type": "markdown",
   "metadata": {},
   "source": [
    "## Load models saved"
   ]
  },
  {
   "cell_type": "code",
   "execution_count": null,
   "metadata": {},
   "outputs": [],
   "source": [
    "# Load the best models from the cross-validation\n",
    "cvGLRmodel = CrossValidatorModel.load(f\"{folder_models}/cvGLR_tweedie_model_fullEmbed\")\n",
    "cvRFmodel = CrossValidatorModel.load(f\"{folder_models}/cvRF_model_fullEmbed\")"
   ]
  },
  {
   "cell_type": "markdown",
   "metadata": {},
   "source": [
    "## Calculate performance metrics"
   ]
  },
  {
   "cell_type": "code",
   "execution_count": null,
   "metadata": {},
   "outputs": [],
   "source": [
    "# Define the models\n",
    "models = {\n",
    "    'LinearGM': cvGLRmodel,\n",
    "    'RandomForest': cvRFmodel\n",
    "}\n",
    "\n",
    "# Define the evaluators\n",
    "evaluators = {\n",
    "    'MAE': RegressionEvaluator(metricName=\"mae\", labelCol=\"cit1year\"),\n",
    "    'RMSE': RegressionEvaluator(metricName=\"rmse\", labelCol=\"cit1year\"),\n",
    "    'R2': RegressionEvaluator(metricName=\"r2\", labelCol=\"cit1year\")\n",
    "}"
   ]
  },
  {
   "cell_type": "code",
   "execution_count": 58,
   "metadata": {},
   "outputs": [],
   "source": [
    "def evaluate_models(train, test, models, evaluators):\n",
    "    \n",
    "    results = []\n",
    "    \n",
    "    # Creation figure 'scatter plot'\n",
    "    n=len(models)\n",
    "    fig, axes = plt.subplots(1, n, figsize=(18, 6))\n",
    "\n",
    "    for model_name, model in models.items():\n",
    "        # Collect the best parameters from the cross-validation results and fit on the entire training set\n",
    "        best_model = model.getEstimator().copy(model.bestModel.extractParamMap())\n",
    "        best_model = best_model.fit(train)\n",
    "\n",
    "        # Make predictions on the test data\n",
    "        predictions_train = model.transform(train)\n",
    "        predictions_test = model.transform(test)\n",
    "        \n",
    "        # Evaluate the predictions\n",
    "        for metric_name, evaluator in evaluators.items():\n",
    "            metrics_train = {\n",
    "                'Model': model_name,\n",
    "                'Dataset': 'Train',\n",
    "                'Metric': metric_name,\n",
    "                'Value': evaluator.evaluate(predictions_train)\n",
    "            }\n",
    "            metrics_test = {\n",
    "                'Model': model_name,\n",
    "                'Dataset': 'Test',\n",
    "                'Metric': metric_name,\n",
    "                'Value': evaluator.evaluate(predictions_test)\n",
    "            }\n",
    "            \n",
    "            # Store the results\n",
    "            results.append(metrics_train)\n",
    "            results.append(metrics_test)\n",
    "        \n",
    "            # Scatter plot Réel VS Prediction\n",
    "            predictions_scatter = predictions_test.select(\"cit1year\", \"prediction\").toPandas()\n",
    "            index = list(models.keys()).index(model_name)\n",
    "            axes[index].scatter(predictions_scatter[\"cit1year\"], predictions_scatter[\"prediction\"], alpha=0.6, color='blue')\n",
    "            axes[index].plot([min(predictions_scatter[\"cit1year\"]), max(predictions_scatter[\"cit1year\"])],\n",
    "                        [min(predictions_scatter[\"cit1year\"]), max(predictions_scatter[\"cit1year\"])],\n",
    "                        color='red', linestyle='--')  # Line for perfect prediction\n",
    "            axes[index].set_title(f\"Modèle de régression: {model_name}\")\n",
    "            axes[index].set_xlabel(\"Valeurs réelles\")\n",
    "            axes[index].set_ylabel(\"Valeurs prédites\")\n",
    "    \n",
    "    plt.tight_layout()\n",
    "    plt.show()\n",
    "    \n",
    "    # Convert results to a DataFrame\n",
    "    results_df = pd.DataFrame(results)\n",
    "    return results_df"
   ]
  },
  {
   "cell_type": "code",
   "execution_count": null,
   "metadata": {},
   "outputs": [
    {
     "name": "stderr",
     "output_type": "stream",
     "text": [
      "25/02/09 18:59:30 WARN Instrumentation: [0b45d7ae] regParam is zero, which might cause numerical instability and overfitting.\n",
      "25/02/09 18:59:31 WARN Instrumentation: [0b45d7ae] Cholesky solver failed due to singular covariance matrix. Retrying with Quasi-Newton solver.\n",
      "                                                                                \r"
     ]
    },
    {
     "data": {
      "image/png": "[encoded data removed]",
      "text/plain": [
       "<Figure size 1800x600 with 2 Axes>"
      ]
     },
     "metadata": {},
     "output_type": "display_data"
    },
    {
     "name": "stdout",
     "output_type": "stream",
     "text": [
      "           Model Dataset Metric      Value\n",
      "0       LinearGM   Train    MAE  11.266670\n",
      "1       LinearGM    Test    MAE  13.386411\n",
      "2       LinearGM   Train   RMSE  27.449014\n",
      "3       LinearGM    Test   RMSE  41.992183\n",
      "4       LinearGM   Train     R2   0.239051\n",
      "5       LinearGM    Test     R2   0.063767\n",
      "6   RandomForest   Train    MAE   7.826393\n",
      "7   RandomForest    Test    MAE   8.845263\n",
      "8   RandomForest   Train   RMSE  26.076788\n",
      "9   RandomForest    Test   RMSE  41.781630\n",
      "10  RandomForest   Train     R2   0.313232\n",
      "11  RandomForest    Test     R2   0.073132\n"
     ]
    }
   ],
   "source": [
    "# Evaluate the models\n",
    "results_df = evaluate_models(train, test, models, evaluators)\n",
    "print(results_df)"
   ]
  },
  {
   "cell_type": "code",
   "execution_count": 60,
   "metadata": {},
   "outputs": [],
   "source": [
    "results_df.to_csv(f\"{folder_models}/results_sample_fullEmbed.csv\", index=False)"
   ]
  },
  {
   "cell_type": "markdown",
   "metadata": {},
   "source": [
    "### Bar Plots using performance metrics"
   ]
  },
  {
   "cell_type": "code",
   "execution_count": null,
   "metadata": {},
   "outputs": [
    {
     "data": {
      "image/png": "[encoded data removed]",
      "text/plain": [
       "<Figure size 1400x600 with 3 Axes>"
      ]
     },
     "metadata": {},
     "output_type": "display_data"
    }
   ],
   "source": [
    "fig, axes = plt.subplots(1, 3, figsize=(14, 6))\n",
    "\n",
    "# Bar plot -- MAE\n",
    "sns.barplot(data = results_df[results_df['Metric'] == 'MAE'], x = \"Model\", y = \"Value\", hue = \"Dataset\", ax = axes[0])\n",
    "axes[0].set_title(\"Mean Absolute Error (MAE)\")\n",
    "axes[0].set_ylabel(\"MAE\")\n",
    "axes[0].set_xlabel(\"Method\")\n",
    "\n",
    "# Bar plot -- RMSE\n",
    "sns.barplot(data = results_df[results_df['Metric'] == 'RMSE'], x = \"Model\", y = \"Value\", hue = \"Dataset\", ax = axes[1])\n",
    "axes[1].set_title(\"Root Mean Square Error (RMSE)\")\n",
    "axes[1].set_ylabel(\"RMSE\")\n",
    "axes[1].set_xlabel(\"Method\")\n",
    "\n",
    "# Bar plot -- R2\n",
    "sns.barplot(data = results_df[results_df['Metric'] == 'R2'], x = \"Model\", y = \"Value\", hue = \"Dataset\", ax = axes[2])\n",
    "axes[2].set_title(\"R² Score\")\n",
    "axes[2].set_ylabel(\"R²\")\n",
    "axes[2].set_xlabel(\"Method\")\n",
    "\n",
    "plt.tight_layout()\n",
    "plt.show()\n"
   ]
  }
 ],
 "metadata": {
  "kernelspec": {
   "display_name": "sparkEnv",
   "language": "python",
   "name": "python3"
  },
  "language_info": {
   "codemirror_mode": {
    "name": "ipython",
    "version": 3
   },
   "file_extension": ".py",
   "mimetype": "text/x-python",
   "name": "python",
   "nbconvert_exporter": "python",
   "pygments_lexer": "ipython3",
   "version": "3.12.8"
  }
 },
 "nbformat": 4,
 "nbformat_minor": 2
}
