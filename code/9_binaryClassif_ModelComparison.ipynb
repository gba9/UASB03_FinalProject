{
 "cells": [
  {
   "cell_type": "markdown",
   "metadata": {},
   "source": [
    "# Initialization"
   ]
  },
  {
   "cell_type": "code",
   "execution_count": 1,
   "metadata": {},
   "outputs": [],
   "source": [
    "import os\n",
    "import sys\n",
    "import pyspark\n",
    "import pandas as pd\n",
    "import matplotlib.pyplot as plt\n",
    "import seaborn as sns\n",
    "\n",
    "from pyspark.sql import SparkSession\n",
    "from pyspark.ml.evaluation import BinaryClassificationEvaluator, MulticlassClassificationEvaluator\n",
    "from pyspark.ml.tuning import CrossValidatorModel\n"
   ]
  },
  {
   "cell_type": "code",
   "execution_count": 2,
   "metadata": {},
   "outputs": [
    {
     "name": "stdout",
     "output_type": "stream",
     "text": [
      "/Users/gaelleba/anaconda3/envs/sparkEnv/bin/python\n",
      "3.5.4\n"
     ]
    }
   ],
   "source": [
    "print(sys.executable)    # vérification\n",
    "os.environ['PYSPARK_PYTHON'] = sys.executable\n",
    "os.environ['PYSPARK_DRIVER_PYTHON'] = sys.executable\n",
    "\n",
    "print(pyspark.__version__)"
   ]
  },
  {
   "cell_type": "markdown",
   "metadata": {},
   "source": [
    "# Start a SparkSession"
   ]
  },
  {
   "cell_type": "code",
   "execution_count": 3,
   "metadata": {},
   "outputs": [
    {
     "name": "stderr",
     "output_type": "stream",
     "text": [
      "Setting default log level to \"WARN\".\n",
      "To adjust logging level use sc.setLogLevel(newLevel). For SparkR, use setLogLevel(newLevel).\n",
      "25/02/10 22:41:30 WARN NativeCodeLoader: Unable to load native-hadoop library for your platform... using builtin-java classes where applicable\n"
     ]
    }
   ],
   "source": [
    "# create a spark session\n",
    "spark = SparkSession \\\n",
    ".builder \\\n",
    ".master(\"local\") \\\n",
    ".config(\"spark.executor.memory\", \"8g\") \\\n",
    ".config(\"spark.driver.memory\", \"8g\") \\\n",
    ".config(\"spark.memory.fraction\", \"0.6\") \\\n",
    ".config(\"spark.memory.storageFraction\", \"0.3\") \\\n",
    ".config(\"spark.executor.cores\", \"4\") \\\n",
    ".config(\"spark.sql.shuffle.partitions\", \"200\") \\\n",
    ".config(\"spark.driver.extraJavaOptions\", \"-XX:ReservedCodeCacheSize=512m\") \\\n",
    ".getOrCreate()"
   ]
  },
  {
   "cell_type": "markdown",
   "metadata": {},
   "source": [
    "# Open saved pre-treated data and models for binary classification"
   ]
  },
  {
   "cell_type": "code",
   "execution_count": 4,
   "metadata": {},
   "outputs": [],
   "source": [
    "folder_models=\"binary_models_sample\""
   ]
  },
  {
   "cell_type": "code",
   "execution_count": 5,
   "metadata": {},
   "outputs": [
    {
     "name": "stderr",
     "output_type": "stream",
     "text": [
      "                                                                                \r"
     ]
    },
    {
     "name": "stdout",
     "output_type": "stream",
     "text": [
      "root\n",
      " |-- features: vector (nullable = true)\n",
      " |-- label: integer (nullable = true)\n",
      "\n",
      "root\n",
      " |-- features: vector (nullable = true)\n",
      " |-- label: integer (nullable = true)\n",
      "\n",
      "Features vector size: 801\n"
     ]
    },
    {
     "name": "stderr",
     "output_type": "stream",
     "text": [
      "                                                                                \r"
     ]
    }
   ],
   "source": [
    "# Load the train and test DataFrames\n",
    "train = spark.read.parquet(f\"{folder_models}/train_full\")\n",
    "test = spark.read.parquet(f\"{folder_models}/test_full\")\n",
    "\n",
    "# Show the schema of the DataFrames to verify they are loaded correctly\n",
    "train.printSchema()\n",
    "test.printSchema()\n",
    "\n",
    "print(\"Features vector size:\", train.select(\"features\").head()[0].size)"
   ]
  },
  {
   "cell_type": "code",
   "execution_count": null,
   "metadata": {},
   "outputs": [
    {
     "name": "stderr",
     "output_type": "stream",
     "text": [
      "                                                                                \r"
     ]
    },
    {
     "name": "stdout",
     "output_type": "stream",
     "text": [
      "CrossValidatorModel_40bbb67d55b5\n",
      "CrossValidatorModel_cd455eb72158\n",
      "CrossValidatorModel_1b0b96523b99\n"
     ]
    }
   ],
   "source": [
    "# Load the best models from the cross-validation\n",
    "cvSVCmodel = CrossValidatorModel.load(f\"{folder_models}/cvSVCmodel_fullEmbed\")\n",
    "cvRFmodel = CrossValidatorModel.load(f\"{folder_models}/cvRFmodel_fullEmbed\")\n",
    "cvLRmodel = CrossValidatorModel.load(f\"{folder_models}/cvLRmodel_fullEmbed\")\n",
    "\n",
    "\n",
    "# Verify the models are loaded correctly\n",
    "print(cvSVCmodel)\n",
    "print(cvRFmodel)\n",
    "print(cvLRmodel)\n"
   ]
  },
  {
   "cell_type": "markdown",
   "metadata": {},
   "source": [
    "# Comparaison des modèles sur les données de test"
   ]
  },
  {
   "cell_type": "code",
   "execution_count": null,
   "metadata": {},
   "outputs": [],
   "source": [
    "# Define the models\n",
    "models = {\n",
    "    'LinearSVM': cvSVCmodel,\n",
    "    'RandomForest': cvRFmodel,\n",
    "    'LogisticRegression': cvLRmodel\n",
    "}\n",
    "\n",
    "# Define the evaluators\n",
    "evaluators = {\n",
    "    'Accuracy': MulticlassClassificationEvaluator(metricName=\"accuracy\"),\n",
    "    'F1': MulticlassClassificationEvaluator(metricName=\"f1\"),\n",
    "    'ROC': BinaryClassificationEvaluator(metricName=\"areaUnderROC\")\n",
    "}"
   ]
  },
  {
   "cell_type": "code",
   "execution_count": 33,
   "metadata": {},
   "outputs": [],
   "source": [
    "def evaluate_models(train, test, models, evaluators):\n",
    "    results = []\n",
    "\n",
    "    for model_name, model in models.items():\n",
    "        # Collect the best parameters from the cross-validation results and fit on the entire training set\n",
    "        best_model = model.getEstimator().copy(model.bestModel.extractParamMap())\n",
    "        best_model = best_model.fit(train)\n",
    "\n",
    "        # Make predictions on the test data\n",
    "        predictions_train = model.transform(train)\n",
    "        predictions_test = model.transform(test)\n",
    "        \n",
    "        # Evaluate the predictions\n",
    "        for metric_name, evaluator in evaluators.items():\n",
    "            metrics_train = {\n",
    "                'Model': model_name,\n",
    "                'Dataset': 'Train',\n",
    "                'Metric': metric_name,\n",
    "                'Value': evaluator.evaluate(predictions_train)\n",
    "            }\n",
    "            metrics_test = {\n",
    "                'Model': model_name,\n",
    "                'Dataset': 'Test',\n",
    "                'Metric': metric_name,\n",
    "                'Value': evaluator.evaluate(predictions_test)\n",
    "            }\n",
    "            \n",
    "            # Store the results\n",
    "            results.append(metrics_train)\n",
    "            results.append(metrics_test)\n",
    "            \n",
    "        # Plot ROC curve\n",
    "        roc_data = predictions_test.select(\"label\", \"rawPrediction\").rdd.map(lambda row: (float(row[\"rawPrediction\"][1]), float(row[\"label\"]))).collect()\n",
    "        roc_df = pd.DataFrame(roc_data, columns=[\"Probability\", \"Label\"])\n",
    "        roc_df = roc_df.sort_values(by=\"Probability\", ascending=False)\n",
    "        roc_df[\"TPR\"] = roc_df[\"Label\"].cumsum() / roc_df[\"Label\"].sum()\n",
    "        roc_df[\"FPR\"] = (1 - roc_df[\"Label\"]).cumsum() / (1 - roc_df[\"Label\"]).sum()\n",
    "        roc_auc = evaluators['ROC'].evaluate(predictions_test)\n",
    "        # Plot the ROC curve\n",
    "        plt.plot(roc_df['FPR'], roc_df['TPR'], label=f'{model_name} (AUC = {roc_auc:.2f})')\n",
    "    \n",
    "    plt.ylabel('True Positive Rate')\n",
    "    plt.xlabel('False Positive Rate')\n",
    "    plt.title('ROC Curves')\n",
    "    plt.legend(loc='best')\n",
    "    plt.plot([0, 1], [0, 1], 'k--', color='grey', label='Random Classifier (AUC = 0.5)')\n",
    "    plt.show()\n",
    "    \n",
    "    # Convert results to a DataFrame\n",
    "    results_df = pd.DataFrame(results)\n",
    "    return results_df"
   ]
  },
  {
   "cell_type": "code",
   "execution_count": 34,
   "metadata": {},
   "outputs": [
    {
     "name": "stderr",
     "output_type": "stream",
     "text": [
      "/var/folders/ym/bgkz_f9x4f7dygsy5ydxzyb80000gn/T/ipykernel_26421/2796497108.py:46: UserWarning: color is redundantly defined by the 'color' keyword argument and the fmt string \"k--\" (-> color='k'). The keyword argument will take precedence.\n",
      "  plt.plot([0, 1], [0, 1], 'k--', color='grey', label='Random Classifier (AUC = 0.5)')\n"
     ]
    },
    {
     "data": {
      "image/png": "[encoded data removed]",
      "text/plain": [
       "<Figure size 640x480 with 1 Axes>"
      ]
     },
     "metadata": {},
     "output_type": "display_data"
    },
    {
     "name": "stdout",
     "output_type": "stream",
     "text": [
      "                 Model Dataset    Metric     Value\n",
      "0            LinearSVM   Train  Accuracy  0.617442\n",
      "1            LinearSVM    Test  Accuracy  0.565672\n",
      "2            LinearSVM   Train        F1  0.614932\n",
      "3            LinearSVM    Test        F1  0.563328\n",
      "4            LinearSVM   Train       ROC  0.659712\n",
      "5            LinearSVM    Test       ROC  0.591139\n",
      "6         RandomForest   Train  Accuracy  0.711370\n",
      "7         RandomForest    Test  Accuracy  0.564103\n",
      "8         RandomForest   Train        F1  0.702049\n",
      "9         RandomForest    Test        F1  0.548744\n",
      "10        RandomForest   Train       ROC  0.810270\n",
      "11        RandomForest    Test       ROC  0.582520\n",
      "12  LogisticRegression   Train  Accuracy  0.614599\n",
      "13  LogisticRegression    Test  Accuracy  0.567242\n",
      "14  LogisticRegression   Train        F1  0.612267\n",
      "15  LogisticRegression    Test        F1  0.565014\n",
      "16  LogisticRegression   Train       ROC  0.657976\n",
      "17  LogisticRegression    Test       ROC  0.590461\n"
     ]
    }
   ],
   "source": [
    "# Evaluate the models\n",
    "results_df = evaluate_models(train, test, models, evaluators)\n",
    "print(results_df)"
   ]
  },
  {
   "cell_type": "code",
   "execution_count": 36,
   "metadata": {},
   "outputs": [],
   "source": [
    "results_df.to_csv(f\"{folder_models}/results_sample_fullEmbed.csv\", index=False)"
   ]
  }
 ],
 "metadata": {
  "kernelspec": {
   "display_name": "sparkEnv",
   "language": "python",
   "name": "python3"
  },
  "language_info": {
   "codemirror_mode": {
    "name": "ipython",
    "version": 3
   },
   "file_extension": ".py",
   "mimetype": "text/x-python",
   "name": "python",
   "nbconvert_exporter": "python",
   "pygments_lexer": "ipython3",
   "version": "3.12.8"
  }
 },
 "nbformat": 4,
 "nbformat_minor": 2
}
