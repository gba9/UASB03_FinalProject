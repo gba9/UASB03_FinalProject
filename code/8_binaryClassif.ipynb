{
 "cells": [
  {
   "cell_type": "markdown",
   "metadata": {},
   "source": [
    "# Initialization"
   ]
  },
  {
   "cell_type": "code",
   "execution_count": null,
   "metadata": {},
   "outputs": [],
   "source": [
    "import os\n",
    "import sys\n",
    "import pyspark\n",
    "import pandas as pd\n",
    "import matplotlib.pyplot as plt\n",
    "import seaborn as sns\n",
    "\n",
    "\n",
    "from pyspark.sql import SparkSession\n",
    "\n",
    "\n",
    "from pyspark.ml import Pipeline\n",
    "\n",
    "from pyspark.ml.classification import LogisticRegression, LinearSVC, RandomForestClassifier\n",
    "from pyspark.ml.evaluation import BinaryClassificationEvaluator, MulticlassClassificationEvaluator\n",
    "from pyspark.ml.tuning import ParamGridBuilder, CrossValidator\n",
    "\n"
   ]
  },
  {
   "cell_type": "code",
   "execution_count": 2,
   "metadata": {},
   "outputs": [
    {
     "name": "stdout",
     "output_type": "stream",
     "text": [
      "/Users/gaelleba/anaconda3/envs/sparkEnv/bin/python\n",
      "3.5.4\n"
     ]
    }
   ],
   "source": [
    "print(sys.executable)    # vérification\n",
    "os.environ['PYSPARK_PYTHON'] = sys.executable\n",
    "os.environ['PYSPARK_DRIVER_PYTHON'] = sys.executable\n",
    "\n",
    "print(pyspark.__version__)"
   ]
  },
  {
   "cell_type": "markdown",
   "metadata": {},
   "source": [
    "# Start Spark session and open pre-treated dataset"
   ]
  },
  {
   "cell_type": "code",
   "execution_count": 3,
   "metadata": {},
   "outputs": [
    {
     "name": "stderr",
     "output_type": "stream",
     "text": [
      "Setting default log level to \"WARN\".\n",
      "To adjust logging level use sc.setLogLevel(newLevel). For SparkR, use setLogLevel(newLevel).\n",
      "25/02/10 22:38:26 WARN NativeCodeLoader: Unable to load native-hadoop library for your platform... using builtin-java classes where applicable\n"
     ]
    }
   ],
   "source": [
    "# create a spark session\n",
    "spark = SparkSession \\\n",
    ".builder \\\n",
    ".master(\"local\") \\\n",
    ".config(\"spark.executor.memory\", \"8g\") \\\n",
    ".config(\"spark.driver.memory\", \"8g\") \\\n",
    ".config(\"spark.memory.fraction\", \"0.6\") \\\n",
    ".config(\"spark.memory.storageFraction\", \"0.3\") \\\n",
    ".config(\"spark.executor.cores\", \"4\") \\\n",
    ".config(\"spark.sql.shuffle.partitions\", \"200\") \\\n",
    ".config(\"spark.driver.extraJavaOptions\", \"-XX:ReservedCodeCacheSize=512m\") \\\n",
    ".getOrCreate()"
   ]
  },
  {
   "cell_type": "code",
   "execution_count": 4,
   "metadata": {},
   "outputs": [],
   "source": [
    "folder_models=\"binary_models_sample\"\n",
    "df_name='df_BioBertFull_binary_classif'"
   ]
  },
  {
   "cell_type": "code",
   "execution_count": 5,
   "metadata": {},
   "outputs": [
    {
     "name": "stderr",
     "output_type": "stream",
     "text": [
      "                                                                                \r"
     ]
    },
    {
     "name": "stdout",
     "output_type": "stream",
     "text": [
      "root\n",
      " |-- features: vector (nullable = true)\n",
      " |-- label: integer (nullable = true)\n",
      "\n",
      "Features vector size: 801\n"
     ]
    },
    {
     "name": "stderr",
     "output_type": "stream",
     "text": [
      "                                                                                \r"
     ]
    }
   ],
   "source": [
    "# Load the pre-treated dataset\n",
    "df_classif = spark.read.parquet(f\"{folder_models}/{df_name}\")\n",
    "df_classif.printSchema()\n",
    "print(\"Features vector size:\", df_classif.select(\"features\").head()[0].size)"
   ]
  },
  {
   "cell_type": "code",
   "execution_count": 6,
   "metadata": {},
   "outputs": [],
   "source": [
    "# Partitionner les données en apprentissage (80%) et test (20%)\n",
    "partitions = df_classif.randomSplit([0.8, 0.2], seed=100)\n",
    "train = partitions[0].cache()  # conservé en mémoire\n",
    "test = partitions[1]"
   ]
  },
  {
   "cell_type": "code",
   "execution_count": null,
   "metadata": {},
   "outputs": [],
   "source": [
    "train.write.mode(\"overwrite\").parquet(f\"{folder_models}/train_full\")\n",
    "test.write.mode(\"overwrite\").parquet(f\"{folder_models}/test_full\")"
   ]
  },
  {
   "cell_type": "markdown",
   "metadata": {},
   "source": [
    "# Binary classification"
   ]
  },
  {
   "cell_type": "markdown",
   "metadata": {},
   "source": [
    "## SVM"
   ]
  },
  {
   "cell_type": "code",
   "execution_count": 8,
   "metadata": {},
   "outputs": [],
   "source": [
    "# Définition de l'estimateur SVC linéaire\n",
    "linSvc = LinearSVC()\\\n",
    "                .setFeaturesCol(\"features\") \\\n",
    "                .setLabelCol(\"label\")\\\n",
    "\n",
    "# Définition du pipeline (réduit ici au SVM linéaire)\n",
    "pipeline_svc = Pipeline().setStages([linSvc])"
   ]
  },
  {
   "cell_type": "code",
   "execution_count": null,
   "metadata": {},
   "outputs": [
    {
     "name": "stderr",
     "output_type": "stream",
     "text": [
      "25/02/10 13:33:11 WARN InstanceBuilder: Failed to load implementation from:dev.ludovic.netlib.blas.JNIBLAS\n",
      "Java HotSpot(TM) 64-Bit Server VM warning: CodeCache is full. Compiler has been disabled.\n",
      "Java HotSpot(TM) 64-Bit Server VM warning: Try increasing the code cache size using -XX:ReservedCodeCacheSize=\n"
     ]
    },
    {
     "name": "stdout",
     "output_type": "stream",
     "text": [
      "CodeCache: size=524288Kb used=36058Kb max_used=37136Kb free=488229Kb\n",
      " bounds [0x000000010a1e8000, 0x000000010c658000, 0x000000012a1e8000]\n",
      " total_blobs=13366 nmethods=12138 adapters=1139\n",
      " compilation: disabled (not enough contiguous free space left)\n"
     ]
    }
   ],
   "source": [
    "# Définition des hyperparamètres\n",
    "paramGrid_svc = ParamGridBuilder().addGrid(linSvc.regParam,[0.1, 0.3, 0.5, 0.6, 0.8]) \\\n",
    "                              .addGrid(linSvc.maxIter, [5, 10, 15, 20])\\\n",
    "                              .build()\n",
    "\n",
    "# Définition de l'instance de CrossValidator : à quel estimateur l'appliquer,\n",
    "cv_svc = CrossValidator().setEstimator(pipeline_svc) \\\n",
    "                     .setEstimatorParamMaps(paramGrid_svc) \\\n",
    "                     .setNumFolds(5) \\\n",
    "                     .setEvaluator(BinaryClassificationEvaluator())\n",
    "\n",
    "# Construction et évaluation par validation croisée des modèles correspondant\n",
    "cvSVCmodel = cv_svc.fit(train)"
   ]
  },
  {
   "cell_type": "code",
   "execution_count": 10,
   "metadata": {},
   "outputs": [
    {
     "name": "stdout",
     "output_type": "stream",
     "text": [
      "[0.5608073224103309, 0.5382806618555639, 0.5314840459206902, 0.5317214715305948, 0.5626628585671897, 0.5413881176502368, 0.5387794508842225, 0.5393233279872522, 0.5645334961674022, 0.548569065557419, 0.5419800698183377, 0.5427868960093243, 0.565154488042098, 0.5484751434316775, 0.5421613771118905, 0.5442804801611161, 0.5655526773272224, 0.5494098973152837, 0.5432718481154601, 0.5470454816143779]\n"
     ]
    },
    {
     "data": {
      "text/plain": [
       "{Param(parent='LinearSVC_fe8817195cd6', name='regParam', doc='regularization parameter (>= 0).'): 0.8,\n",
       " Param(parent='LinearSVC_fe8817195cd6', name='maxIter', doc='max number of iterations (>= 0).'): 5}"
      ]
     },
     "execution_count": 10,
     "metadata": {},
     "output_type": "execute_result"
    }
   ],
   "source": [
    "# Afficher les valeurs AUC obtenues pour les combinaisons de la grille\n",
    "print(cvSVCmodel.avgMetrics)\n",
    "\n",
    "# Afficher les meilleures valeurs pour les hyperparamètres\n",
    "cvSVCmodel.getEstimatorParamMaps()[cvSVCmodel.avgMetrics.index(max(cvSVCmodel.avgMetrics))]"
   ]
  },
  {
   "cell_type": "code",
   "execution_count": null,
   "metadata": {},
   "outputs": [],
   "source": [
    "cvSVCmodel.write().overwrite().save(f\"{folder_models}/cvSVCmodel_fullEmbed\")"
   ]
  },
  {
   "cell_type": "markdown",
   "metadata": {},
   "source": [
    "## Regression logistique"
   ]
  },
  {
   "cell_type": "code",
   "execution_count": null,
   "metadata": {},
   "outputs": [],
   "source": [
    "lr = LogisticRegression(featuresCol = 'features', labelCol = 'label')\n",
    "pipelineLR = Pipeline().setStages([lr])"
   ]
  },
  {
   "cell_type": "code",
   "execution_count": 13,
   "metadata": {},
   "outputs": [],
   "source": [
    "# Définition des hyperparamètres\n",
    "paramGrid_lr = (ParamGridBuilder()\n",
    ".addGrid(lr.regParam, [0.1, 0.2, 0.3, 0.4, 0.5])\n",
    ".addGrid(lr.elasticNetParam, [0, 0.01,0.1,0.2])\n",
    ".addGrid(lr.maxIter, [5, 10, 25])\n",
    ".build())\n",
    "\n",
    "cv_lr = CrossValidator().setEstimator(pipelineLR) \\\n",
    "                           .setEstimatorParamMaps(paramGrid_lr) \\\n",
    "                           .setNumFolds(5) \\\n",
    "                           .setEvaluator(BinaryClassificationEvaluator())\n",
    "                           \n",
    "cvLRmodel = cv_lr.fit(train)"
   ]
  },
  {
   "cell_type": "code",
   "execution_count": 14,
   "metadata": {},
   "outputs": [
    {
     "name": "stdout",
     "output_type": "stream",
     "text": [
      "[0.5329373406082653, 0.5271157413533724, 0.5292993857628553, 0.5402426068020111, 0.5301460546748644, 0.5315136599422282, 0.5545420888590893, 0.5517441817886981, 0.5508703628896314, 0.55074280719047, 0.5519703821574722, 0.5518353570596639, 0.5369698342788631, 0.5343785315405081, 0.5352584010625839, 0.544783203168583, 0.5387942829657141, 0.5400132929585777, 0.5517909752757892, 0.5516797337202456, 0.5518604688890936, 0.5201829941663194, 0.5203871580909234, 0.5197779985116856, 0.5394373953567244, 0.5398499504200528, 0.5398391112686907, 0.5479597784955788, 0.545221955889667, 0.5453324526626568, 0.546764067220335, 0.5490571394634352, 0.5490001585537116, 0.5, 0.5, 0.5, 0.5420544965208451, 0.5431994476922366, 0.5433296519252148, 0.5510509252554859, 0.5493863857874037, 0.5492632710089861, 0.5202903218155246, 0.5205317231675577, 0.5204009695397522, 0.5, 0.5, 0.5, 0.5448454191371948, 0.5458578975158234, 0.54598105858535, 0.553018490178993, 0.5527544363639375, 0.5528586702968628, 0.5012872421695952, 0.5012872421695952, 0.5012872421695952, 0.5, 0.5, 0.5]\n"
     ]
    },
    {
     "data": {
      "text/plain": [
       "{Param(parent='LogisticRegression_a2bab1ab491c', name='regParam', doc='regularization parameter (>= 0).'): 0.1,\n",
       " Param(parent='LogisticRegression_a2bab1ab491c', name='elasticNetParam', doc='the ElasticNet mixing parameter, in range [0, 1]. For alpha = 0, the penalty is an L2 penalty. For alpha = 1, it is an L1 penalty.'): 0.1,\n",
       " Param(parent='LogisticRegression_a2bab1ab491c', name='maxIter', doc='max number of iterations (>= 0).'): 5}"
      ]
     },
     "execution_count": 14,
     "metadata": {},
     "output_type": "execute_result"
    }
   ],
   "source": [
    "# Afficher les valeurs AUC obtenues pour les combinaisons de la grille\n",
    "print(cvLRmodel.avgMetrics)\n",
    "\n",
    "# Afficher les meilleures valeurs pour les hyperparamètres\n",
    "cvLRmodel.getEstimatorParamMaps()[cvLRmodel.avgMetrics.index(max(cvLRmodel.avgMetrics))]"
   ]
  },
  {
   "cell_type": "code",
   "execution_count": null,
   "metadata": {},
   "outputs": [],
   "source": [
    "cvLRmodel.write().overwrite().save(f\"{folder_models}/cvLRmodel_fullEmbed\")"
   ]
  },
  {
   "cell_type": "markdown",
   "metadata": {},
   "source": [
    "## Random forests"
   ]
  },
  {
   "cell_type": "code",
   "execution_count": 16,
   "metadata": {},
   "outputs": [],
   "source": [
    "rf = RandomForestClassifier() \\\n",
    "              .setFeaturesCol(\"features\") \\\n",
    "              .setLabelCol(\"label\")\\\n",
    "                  . setSeed(100)\n",
    "\n",
    "pipelineRF = Pipeline().setStages([rf])"
   ]
  },
  {
   "cell_type": "code",
   "execution_count": null,
   "metadata": {},
   "outputs": [
    {
     "name": "stderr",
     "output_type": "stream",
     "text": [
      "25/02/10 13:38:21 WARN DAGScheduler: Broadcasting large task binary with size 1013.3 KiB\n",
      "25/02/10 13:38:30 WARN DAGScheduler: Broadcasting large task binary with size 1014.1 KiB\n",
      "25/02/10 13:38:40 WARN DAGScheduler: Broadcasting large task binary with size 1002.4 KiB\n",
      "25/02/10 13:38:50 WARN DAGScheduler: Broadcasting large task binary with size 1138.1 KiB\n",
      "25/02/10 13:39:01 WARN DAGScheduler: Broadcasting large task binary with size 1141.7 KiB\n",
      "25/02/10 13:39:12 WARN DAGScheduler: Broadcasting large task binary with size 1124.1 KiB\n",
      "25/02/10 13:39:23 WARN DAGScheduler: Broadcasting large task binary with size 1267.0 KiB\n",
      "25/02/10 13:39:24 WARN DAGScheduler: Broadcasting large task binary with size 1801.7 KiB\n",
      "25/02/10 13:39:26 WARN DAGScheduler: Broadcasting large task binary with size 2.4 MiB\n",
      "25/02/10 13:39:28 WARN DAGScheduler: Broadcasting large task binary with size 1572.2 KiB\n",
      "25/02/10 13:39:32 WARN DAGScheduler: Broadcasting large task binary with size 1130.1 KiB\n",
      "25/02/10 13:39:33 WARN DAGScheduler: Broadcasting large task binary with size 1618.1 KiB\n",
      "25/02/10 13:39:34 WARN DAGScheduler: Broadcasting large task binary with size 2.2 MiB\n",
      "25/02/10 13:39:35 WARN DAGScheduler: Broadcasting large task binary with size 1573.7 KiB\n",
      "25/02/10 13:39:40 WARN DAGScheduler: Broadcasting large task binary with size 1254.8 KiB\n",
      "25/02/10 13:39:41 WARN DAGScheduler: Broadcasting large task binary with size 1757.1 KiB\n",
      "25/02/10 13:39:43 WARN DAGScheduler: Broadcasting large task binary with size 2.3 MiB\n",
      "25/02/10 13:39:45 WARN DAGScheduler: Broadcasting large task binary with size 1310.9 KiB\n",
      "25/02/10 13:39:49 WARN DAGScheduler: Broadcasting large task binary with size 1108.1 KiB\n",
      "25/02/10 13:39:50 WARN DAGScheduler: Broadcasting large task binary with size 1555.5 KiB\n",
      "25/02/10 13:39:50 WARN DAGScheduler: Broadcasting large task binary with size 2.1 MiB\n",
      "25/02/10 13:39:51 WARN DAGScheduler: Broadcasting large task binary with size 1292.4 KiB\n",
      "25/02/10 13:39:57 WARN DAGScheduler: Broadcasting large task binary with size 1205.6 KiB\n",
      "25/02/10 13:39:58 WARN DAGScheduler: Broadcasting large task binary with size 1641.0 KiB\n",
      "25/02/10 13:39:59 WARN DAGScheduler: Broadcasting large task binary with size 2.1 MiB\n",
      "25/02/10 13:40:01 WARN DAGScheduler: Broadcasting large task binary with size 1081.4 KiB\n",
      "25/02/10 13:40:05 WARN DAGScheduler: Broadcasting large task binary with size 1057.6 KiB\n",
      "25/02/10 13:40:06 WARN DAGScheduler: Broadcasting large task binary with size 1434.0 KiB\n",
      "25/02/10 13:40:07 WARN DAGScheduler: Broadcasting large task binary with size 1869.3 KiB\n",
      "25/02/10 13:40:08 WARN DAGScheduler: Broadcasting large task binary with size 1057.6 KiB\n",
      "25/02/10 13:40:12 WARN DAGScheduler: Broadcasting large task binary with size 1013.3 KiB\n",
      "25/02/10 13:40:13 WARN DAGScheduler: Broadcasting large task binary with size 1507.1 KiB\n",
      "25/02/10 13:40:14 WARN DAGScheduler: Broadcasting large task binary with size 2.1 MiB\n",
      "25/02/10 13:40:16 WARN DAGScheduler: Broadcasting large task binary with size 2.9 MiB\n",
      "25/02/10 13:40:19 WARN DAGScheduler: Broadcasting large task binary with size 1932.5 KiB\n",
      "25/02/10 13:40:23 WARN DAGScheduler: Broadcasting large task binary with size 1312.4 KiB\n",
      "25/02/10 13:40:23 WARN DAGScheduler: Broadcasting large task binary with size 1902.5 KiB\n",
      "25/02/10 13:40:24 WARN DAGScheduler: Broadcasting large task binary with size 2.6 MiB\n",
      "25/02/10 13:40:25 WARN DAGScheduler: Broadcasting large task binary with size 1893.9 KiB\n",
      "25/02/10 13:40:30 WARN DAGScheduler: Broadcasting large task binary with size 1014.1 KiB\n",
      "25/02/10 13:40:31 WARN DAGScheduler: Broadcasting large task binary with size 1501.0 KiB\n",
      "25/02/10 13:40:32 WARN DAGScheduler: Broadcasting large task binary with size 2.1 MiB\n",
      "25/02/10 13:40:34 WARN DAGScheduler: Broadcasting large task binary with size 2.8 MiB\n",
      "25/02/10 13:40:37 WARN DAGScheduler: Broadcasting large task binary with size 1581.5 KiB\n",
      "25/02/10 13:40:41 WARN DAGScheduler: Broadcasting large task binary with size 1294.0 KiB\n",
      "25/02/10 13:40:41 WARN DAGScheduler: Broadcasting large task binary with size 1857.6 KiB\n",
      "25/02/10 13:40:42 WARN DAGScheduler: Broadcasting large task binary with size 2.5 MiB\n",
      "25/02/10 13:40:43 WARN DAGScheduler: Broadcasting large task binary with size 1577.6 KiB\n",
      "25/02/10 13:40:48 WARN DAGScheduler: Broadcasting large task binary with size 1002.4 KiB\n",
      "25/02/10 13:40:49 WARN DAGScheduler: Broadcasting large task binary with size 1446.7 KiB\n",
      "25/02/10 13:40:51 WARN DAGScheduler: Broadcasting large task binary with size 1982.7 KiB\n",
      "25/02/10 13:40:52 WARN DAGScheduler: Broadcasting large task binary with size 2.5 MiB\n",
      "25/02/10 13:40:55 WARN DAGScheduler: Broadcasting large task binary with size 1323.8 KiB\n",
      "25/02/10 13:40:59 WARN DAGScheduler: Broadcasting large task binary with size 1235.1 KiB\n",
      "25/02/10 13:41:00 WARN DAGScheduler: Broadcasting large task binary with size 1707.8 KiB\n",
      "25/02/10 13:41:00 WARN DAGScheduler: Broadcasting large task binary with size 2.2 MiB\n",
      "25/02/10 13:41:01 WARN DAGScheduler: Broadcasting large task binary with size 1284.2 KiB\n",
      "25/02/10 13:41:06 WARN DAGScheduler: Broadcasting large task binary with size 1138.1 KiB\n",
      "25/02/10 13:41:07 WARN DAGScheduler: Broadcasting large task binary with size 1717.0 KiB\n",
      "25/02/10 13:41:09 WARN DAGScheduler: Broadcasting large task binary with size 2.4 MiB\n",
      "25/02/10 13:41:12 WARN DAGScheduler: Broadcasting large task binary with size 3.4 MiB\n",
      "25/02/10 13:41:14 WARN DAGScheduler: Broadcasting large task binary with size 2.2 MiB\n",
      "25/02/10 13:41:19 WARN DAGScheduler: Broadcasting large task binary with size 1490.3 KiB\n",
      "25/02/10 13:41:20 WARN DAGScheduler: Broadcasting large task binary with size 2.2 MiB\n",
      "25/02/10 13:41:21 WARN DAGScheduler: Broadcasting large task binary with size 3.1 MiB\n",
      "25/02/10 13:41:22 WARN DAGScheduler: Broadcasting large task binary with size 2.2 MiB\n",
      "25/02/10 13:41:27 WARN DAGScheduler: Broadcasting large task binary with size 1141.7 KiB\n",
      "25/02/10 13:41:28 WARN DAGScheduler: Broadcasting large task binary with size 1704.2 KiB\n",
      "25/02/10 13:41:30 WARN DAGScheduler: Broadcasting large task binary with size 2.4 MiB\n",
      "25/02/10 13:41:32 WARN DAGScheduler: Broadcasting large task binary with size 3.2 MiB\n",
      "25/02/10 13:41:35 WARN DAGScheduler: Broadcasting large task binary with size 1862.6 KiB\n",
      "25/02/10 13:41:39 WARN DAGScheduler: Broadcasting large task binary with size 1477.9 KiB\n",
      "25/02/10 13:41:40 WARN DAGScheduler: Broadcasting large task binary with size 2.1 MiB\n",
      "25/02/10 13:41:41 WARN DAGScheduler: Broadcasting large task binary with size 2.9 MiB\n",
      "25/02/10 13:41:43 WARN DAGScheduler: Broadcasting large task binary with size 1863.4 KiB\n",
      "25/02/10 13:41:47 WARN DAGScheduler: Broadcasting large task binary with size 1124.1 KiB\n",
      "25/02/10 13:41:48 WARN DAGScheduler: Broadcasting large task binary with size 1635.4 KiB\n",
      "25/02/10 13:41:50 WARN DAGScheduler: Broadcasting large task binary with size 2.2 MiB\n",
      "25/02/10 13:41:53 WARN DAGScheduler: Broadcasting large task binary with size 2.8 MiB\n",
      "25/02/10 13:41:55 WARN DAGScheduler: Broadcasting large task binary with size 1520.6 KiB\n",
      "25/02/10 13:41:59 WARN DAGScheduler: Broadcasting large task binary with size 1387.8 KiB\n",
      "25/02/10 13:42:00 WARN DAGScheduler: Broadcasting large task binary with size 1944.6 KiB\n",
      "25/02/10 13:42:01 WARN DAGScheduler: Broadcasting large task binary with size 2.5 MiB\n",
      "25/02/10 13:42:02 WARN DAGScheduler: Broadcasting large task binary with size 1501.4 KiB\n",
      "25/02/10 13:43:51 WARN DAGScheduler: Broadcasting large task binary with size 1144.7 KiB\n",
      "25/02/10 13:44:01 WARN DAGScheduler: Broadcasting large task binary with size 1142.4 KiB\n",
      "25/02/10 13:44:11 WARN DAGScheduler: Broadcasting large task binary with size 1123.3 KiB\n",
      "25/02/10 13:44:22 WARN DAGScheduler: Broadcasting large task binary with size 1253.3 KiB\n",
      "25/02/10 13:44:23 WARN DAGScheduler: Broadcasting large task binary with size 1754.2 KiB\n",
      "25/02/10 13:44:25 WARN DAGScheduler: Broadcasting large task binary with size 2.3 MiB\n",
      "25/02/10 13:44:27 WARN DAGScheduler: Broadcasting large task binary with size 1518.8 KiB\n",
      "25/02/10 13:44:31 WARN DAGScheduler: Broadcasting large task binary with size 1105.2 KiB\n",
      "25/02/10 13:44:31 WARN DAGScheduler: Broadcasting large task binary with size 1575.5 KiB\n",
      "25/02/10 13:44:32 WARN DAGScheduler: Broadcasting large task binary with size 2.1 MiB\n",
      "25/02/10 13:44:33 WARN DAGScheduler: Broadcasting large task binary with size 1532.5 KiB\n",
      "25/02/10 13:44:38 WARN DAGScheduler: Broadcasting large task binary with size 1242.2 KiB\n",
      "25/02/10 13:44:39 WARN DAGScheduler: Broadcasting large task binary with size 1723.7 KiB\n",
      "25/02/10 13:44:41 WARN DAGScheduler: Broadcasting large task binary with size 2.2 MiB\n",
      "25/02/10 13:44:43 WARN DAGScheduler: Broadcasting large task binary with size 1280.2 KiB\n",
      "25/02/10 13:44:47 WARN DAGScheduler: Broadcasting large task binary with size 1086.6 KiB\n",
      "25/02/10 13:44:47 WARN DAGScheduler: Broadcasting large task binary with size 1513.3 KiB\n",
      "25/02/10 13:44:48 WARN DAGScheduler: Broadcasting large task binary with size 2036.8 KiB\n",
      "25/02/10 13:44:49 WARN DAGScheduler: Broadcasting large task binary with size 1237.4 KiB\n",
      "25/02/10 13:44:54 WARN DAGScheduler: Broadcasting large task binary with size 1197.0 KiB\n",
      "25/02/10 13:44:55 WARN DAGScheduler: Broadcasting large task binary with size 1596.7 KiB\n",
      "25/02/10 13:44:56 WARN DAGScheduler: Broadcasting large task binary with size 2018.6 KiB\n",
      "25/02/10 13:44:58 WARN DAGScheduler: Broadcasting large task binary with size 1049.6 KiB\n",
      "25/02/10 13:45:02 WARN DAGScheduler: Broadcasting large task binary with size 1044.0 KiB\n",
      "25/02/10 13:45:02 WARN DAGScheduler: Broadcasting large task binary with size 1405.1 KiB\n",
      "25/02/10 13:45:03 WARN DAGScheduler: Broadcasting large task binary with size 1833.4 KiB\n",
      "25/02/10 13:45:04 WARN DAGScheduler: Broadcasting large task binary with size 1049.0 KiB\n",
      "25/02/10 13:45:09 WARN DAGScheduler: Broadcasting large task binary with size 1468.6 KiB\n",
      "25/02/10 13:45:10 WARN DAGScheduler: Broadcasting large task binary with size 2.1 MiB\n",
      "25/02/10 13:45:12 WARN DAGScheduler: Broadcasting large task binary with size 2.8 MiB\n",
      "25/02/10 13:45:15 WARN DAGScheduler: Broadcasting large task binary with size 1884.2 KiB\n",
      "25/02/10 13:45:19 WARN DAGScheduler: Broadcasting large task binary with size 1313.5 KiB\n",
      "25/02/10 13:45:19 WARN DAGScheduler: Broadcasting large task binary with size 1913.5 KiB\n",
      "25/02/10 13:45:20 WARN DAGScheduler: Broadcasting large task binary with size 2.6 MiB\n",
      "25/02/10 13:45:21 WARN DAGScheduler: Broadcasting large task binary with size 1905.8 KiB\n",
      "25/02/10 13:45:27 WARN DAGScheduler: Broadcasting large task binary with size 1462.6 KiB\n",
      "25/02/10 13:45:28 WARN DAGScheduler: Broadcasting large task binary with size 2.0 MiB\n",
      "25/02/10 13:45:30 WARN DAGScheduler: Broadcasting large task binary with size 2.7 MiB\n",
      "25/02/10 13:45:33 WARN DAGScheduler: Broadcasting large task binary with size 1567.6 KiB\n",
      "25/02/10 13:45:37 WARN DAGScheduler: Broadcasting large task binary with size 1296.1 KiB\n",
      "25/02/10 13:45:38 WARN DAGScheduler: Broadcasting large task binary with size 1840.1 KiB\n",
      "25/02/10 13:45:38 WARN DAGScheduler: Broadcasting large task binary with size 2.4 MiB\n",
      "25/02/10 13:45:39 WARN DAGScheduler: Broadcasting large task binary with size 1537.7 KiB\n",
      "25/02/10 13:45:45 WARN DAGScheduler: Broadcasting large task binary with size 1413.7 KiB\n",
      "25/02/10 13:45:46 WARN DAGScheduler: Broadcasting large task binary with size 1932.7 KiB\n",
      "25/02/10 13:45:48 WARN DAGScheduler: Broadcasting large task binary with size 2.4 MiB\n",
      "25/02/10 13:45:50 WARN DAGScheduler: Broadcasting large task binary with size 1294.7 KiB\n",
      "25/02/10 13:45:55 WARN DAGScheduler: Broadcasting large task binary with size 1231.4 KiB\n",
      "25/02/10 13:45:55 WARN DAGScheduler: Broadcasting large task binary with size 1698.5 KiB\n",
      "25/02/10 13:45:56 WARN DAGScheduler: Broadcasting large task binary with size 2.2 MiB\n",
      "25/02/10 13:45:57 WARN DAGScheduler: Broadcasting large task binary with size 1281.9 KiB\n",
      "25/02/10 13:46:02 WARN DAGScheduler: Broadcasting large task binary with size 1144.7 KiB\n",
      "25/02/10 13:46:03 WARN DAGScheduler: Broadcasting large task binary with size 1724.4 KiB\n",
      "25/02/10 13:46:05 WARN DAGScheduler: Broadcasting large task binary with size 2.4 MiB\n",
      "25/02/10 13:46:07 WARN DAGScheduler: Broadcasting large task binary with size 3.3 MiB\n",
      "25/02/10 13:46:10 WARN DAGScheduler: Broadcasting large task binary with size 2.2 MiB\n",
      "25/02/10 13:46:15 WARN DAGScheduler: Broadcasting large task binary with size 1489.6 KiB\n",
      "25/02/10 13:46:15 WARN DAGScheduler: Broadcasting large task binary with size 2.1 MiB\n",
      "25/02/10 13:46:16 WARN DAGScheduler: Broadcasting large task binary with size 3.0 MiB\n",
      "25/02/10 13:46:18 WARN DAGScheduler: Broadcasting large task binary with size 2.2 MiB\n",
      "25/02/10 13:46:23 WARN DAGScheduler: Broadcasting large task binary with size 1142.4 KiB\n",
      "25/02/10 13:46:24 WARN DAGScheduler: Broadcasting large task binary with size 1716.0 KiB\n",
      "25/02/10 13:46:26 WARN DAGScheduler: Broadcasting large task binary with size 2.4 MiB\n",
      "25/02/10 13:46:28 WARN DAGScheduler: Broadcasting large task binary with size 3.2 MiB\n",
      "25/02/10 13:46:31 WARN DAGScheduler: Broadcasting large task binary with size 1869.2 KiB\n",
      "25/02/10 13:46:36 WARN DAGScheduler: Broadcasting large task binary with size 1454.3 KiB\n",
      "25/02/10 13:46:37 WARN DAGScheduler: Broadcasting large task binary with size 2.1 MiB\n",
      "25/02/10 13:46:38 WARN DAGScheduler: Broadcasting large task binary with size 2.9 MiB\n",
      "25/02/10 13:46:39 WARN DAGScheduler: Broadcasting large task binary with size 1829.6 KiB\n",
      "25/02/10 13:46:44 WARN DAGScheduler: Broadcasting large task binary with size 1123.3 KiB\n",
      "25/02/10 13:46:45 WARN DAGScheduler: Broadcasting large task binary with size 1628.9 KiB\n",
      "25/02/10 13:46:47 WARN DAGScheduler: Broadcasting large task binary with size 2.2 MiB\n",
      "25/02/10 13:46:49 WARN DAGScheduler: Broadcasting large task binary with size 2.8 MiB\n",
      "25/02/10 13:46:52 WARN DAGScheduler: Broadcasting large task binary with size 1514.9 KiB\n",
      "25/02/10 13:46:56 WARN DAGScheduler: Broadcasting large task binary with size 1390.1 KiB\n",
      "25/02/10 13:46:57 WARN DAGScheduler: Broadcasting large task binary with size 1929.4 KiB\n",
      "25/02/10 13:46:58 WARN DAGScheduler: Broadcasting large task binary with size 2.5 MiB\n",
      "25/02/10 13:46:59 WARN DAGScheduler: Broadcasting large task binary with size 1499.1 KiB\n",
      "25/02/10 13:48:32 WARN DAGScheduler: Broadcasting large task binary with size 1002.1 KiB\n",
      "25/02/10 13:49:02 WARN DAGScheduler: Broadcasting large task binary with size 1143.5 KiB\n",
      "25/02/10 13:49:07 WARN DAGScheduler: Broadcasting large task binary with size 1002.6 KiB\n",
      "25/02/10 13:49:13 WARN DAGScheduler: Broadcasting large task binary with size 1141.1 KiB\n",
      "25/02/10 13:49:23 WARN DAGScheduler: Broadcasting large task binary with size 1126.5 KiB\n",
      "25/02/10 13:49:34 WARN DAGScheduler: Broadcasting large task binary with size 1264.4 KiB\n",
      "25/02/10 13:49:35 WARN DAGScheduler: Broadcasting large task binary with size 1795.5 KiB\n",
      "25/02/10 13:49:37 WARN DAGScheduler: Broadcasting large task binary with size 2.4 MiB\n",
      "25/02/10 13:49:39 WARN DAGScheduler: Broadcasting large task binary with size 1562.5 KiB\n",
      "25/02/10 13:49:43 WARN DAGScheduler: Broadcasting large task binary with size 1109.9 KiB\n",
      "25/02/10 13:49:43 WARN DAGScheduler: Broadcasting large task binary with size 1582.3 KiB\n",
      "25/02/10 13:49:44 WARN DAGScheduler: Broadcasting large task binary with size 2.1 MiB\n",
      "25/02/10 13:49:45 WARN DAGScheduler: Broadcasting large task binary with size 1536.9 KiB\n",
      "25/02/10 13:49:50 WARN DAGScheduler: Broadcasting large task binary with size 1254.0 KiB\n",
      "25/02/10 13:49:52 WARN DAGScheduler: Broadcasting large task binary with size 1753.4 KiB\n",
      "25/02/10 13:49:53 WARN DAGScheduler: Broadcasting large task binary with size 2.3 MiB\n",
      "25/02/10 13:49:55 WARN DAGScheduler: Broadcasting large task binary with size 1293.4 KiB\n",
      "25/02/10 13:49:59 WARN DAGScheduler: Broadcasting large task binary with size 1093.2 KiB\n",
      "25/02/10 13:50:00 WARN DAGScheduler: Broadcasting large task binary with size 1524.0 KiB\n",
      "25/02/10 13:50:01 WARN DAGScheduler: Broadcasting large task binary with size 2.0 MiB\n",
      "25/02/10 13:50:02 WARN DAGScheduler: Broadcasting large task binary with size 1259.3 KiB\n",
      "25/02/10 13:50:07 WARN DAGScheduler: Broadcasting large task binary with size 1200.3 KiB\n",
      "25/02/10 13:50:08 WARN DAGScheduler: Broadcasting large task binary with size 1613.5 KiB\n",
      "25/02/10 13:50:09 WARN DAGScheduler: Broadcasting large task binary with size 2.0 MiB\n",
      "25/02/10 13:50:11 WARN DAGScheduler: Broadcasting large task binary with size 1059.2 KiB\n",
      "25/02/10 13:50:15 WARN DAGScheduler: Broadcasting large task binary with size 1045.1 KiB\n",
      "25/02/10 13:50:16 WARN DAGScheduler: Broadcasting large task binary with size 1400.1 KiB\n",
      "25/02/10 13:50:16 WARN DAGScheduler: Broadcasting large task binary with size 1824.0 KiB\n",
      "25/02/10 13:50:17 WARN DAGScheduler: Broadcasting large task binary with size 1046.2 KiB\n",
      "25/02/10 13:50:22 WARN DAGScheduler: Broadcasting large task binary with size 1002.1 KiB\n",
      "25/02/10 13:50:23 WARN DAGScheduler: Broadcasting large task binary with size 1481.2 KiB\n",
      "25/02/10 13:50:24 WARN DAGScheduler: Broadcasting large task binary with size 2.1 MiB\n",
      "25/02/10 13:50:26 WARN DAGScheduler: Broadcasting large task binary with size 2.9 MiB\n",
      "25/02/10 13:50:29 WARN DAGScheduler: Broadcasting large task binary with size 1912.2 KiB\n",
      "25/02/10 13:50:33 WARN DAGScheduler: Broadcasting large task binary with size 1290.4 KiB\n",
      "25/02/10 13:50:34 WARN DAGScheduler: Broadcasting large task binary with size 1887.4 KiB\n",
      "25/02/10 13:50:35 WARN DAGScheduler: Broadcasting large task binary with size 2.6 MiB\n",
      "25/02/10 13:50:36 WARN DAGScheduler: Broadcasting large task binary with size 1901.8 KiB\n",
      "25/02/10 13:50:41 WARN DAGScheduler: Broadcasting large task binary with size 1476.5 KiB\n",
      "25/02/10 13:50:43 WARN DAGScheduler: Broadcasting large task binary with size 2.1 MiB\n",
      "25/02/10 13:50:45 WARN DAGScheduler: Broadcasting large task binary with size 2.8 MiB\n",
      "25/02/10 13:50:48 WARN DAGScheduler: Broadcasting large task binary with size 1595.8 KiB\n",
      "25/02/10 13:50:52 WARN DAGScheduler: Broadcasting large task binary with size 1284.1 KiB\n",
      "25/02/10 13:50:53 WARN DAGScheduler: Broadcasting large task binary with size 1835.4 KiB\n",
      "25/02/10 13:50:54 WARN DAGScheduler: Broadcasting large task binary with size 2.5 MiB\n",
      "25/02/10 13:50:55 WARN DAGScheduler: Broadcasting large task binary with size 1557.9 KiB\n",
      "25/02/10 13:51:00 WARN DAGScheduler: Broadcasting large task binary with size 1416.6 KiB\n",
      "25/02/10 13:51:02 WARN DAGScheduler: Broadcasting large task binary with size 1931.9 KiB\n",
      "25/02/10 13:51:04 WARN DAGScheduler: Broadcasting large task binary with size 2.4 MiB\n",
      "25/02/10 13:51:06 WARN DAGScheduler: Broadcasting large task binary with size 1307.4 KiB\n",
      "25/02/10 13:51:10 WARN DAGScheduler: Broadcasting large task binary with size 1233.8 KiB\n",
      "25/02/10 13:51:11 WARN DAGScheduler: Broadcasting large task binary with size 1704.3 KiB\n",
      "25/02/10 13:51:12 WARN DAGScheduler: Broadcasting large task binary with size 2.2 MiB\n",
      "25/02/10 13:51:13 WARN DAGScheduler: Broadcasting large task binary with size 1294.1 KiB\n",
      "25/02/10 13:51:17 WARN DAGScheduler: Broadcasting large task binary with size 1143.5 KiB\n",
      "25/02/10 13:51:19 WARN DAGScheduler: Broadcasting large task binary with size 1729.2 KiB\n",
      "25/02/10 13:51:21 WARN DAGScheduler: Broadcasting large task binary with size 2.5 MiB\n",
      "25/02/10 13:51:23 WARN DAGScheduler: Broadcasting large task binary with size 3.4 MiB\n",
      "25/02/10 13:51:26 WARN DAGScheduler: Broadcasting large task binary with size 2.2 MiB\n",
      "25/02/10 13:51:30 WARN DAGScheduler: Broadcasting large task binary with size 1002.6 KiB\n",
      "25/02/10 13:51:31 WARN DAGScheduler: Broadcasting large task binary with size 1518.0 KiB\n",
      "25/02/10 13:51:31 WARN DAGScheduler: Broadcasting large task binary with size 2.2 MiB\n",
      "25/02/10 13:51:33 WARN DAGScheduler: Broadcasting large task binary with size 3.1 MiB\n",
      "25/02/10 13:51:34 WARN DAGScheduler: Broadcasting large task binary with size 2.2 MiB\n",
      "25/02/10 13:51:39 WARN DAGScheduler: Broadcasting large task binary with size 1141.1 KiB\n",
      "25/02/10 13:51:40 WARN DAGScheduler: Broadcasting large task binary with size 1718.0 KiB\n",
      "25/02/10 13:51:42 WARN DAGScheduler: Broadcasting large task binary with size 2.4 MiB\n",
      "25/02/10 13:51:45 WARN DAGScheduler: Broadcasting large task binary with size 3.2 MiB\n",
      "25/02/10 13:51:48 WARN DAGScheduler: Broadcasting large task binary with size 1872.6 KiB\n",
      "25/02/10 13:51:52 WARN DAGScheduler: Broadcasting large task binary with size 1488.2 KiB\n",
      "25/02/10 13:51:53 WARN DAGScheduler: Broadcasting large task binary with size 2.1 MiB\n",
      "25/02/10 13:51:54 WARN DAGScheduler: Broadcasting large task binary with size 3.0 MiB\n",
      "25/02/10 13:51:56 WARN DAGScheduler: Broadcasting large task binary with size 1903.1 KiB\n",
      "25/02/10 13:52:01 WARN DAGScheduler: Broadcasting large task binary with size 1126.5 KiB\n",
      "25/02/10 13:52:02 WARN DAGScheduler: Broadcasting large task binary with size 1633.9 KiB\n",
      "25/02/10 13:52:04 WARN DAGScheduler: Broadcasting large task binary with size 2.2 MiB\n",
      "25/02/10 13:52:06 WARN DAGScheduler: Broadcasting large task binary with size 2.9 MiB\n",
      "25/02/10 13:52:09 WARN DAGScheduler: Broadcasting large task binary with size 1538.9 KiB\n",
      "25/02/10 13:52:13 WARN DAGScheduler: Broadcasting large task binary with size 1421.5 KiB\n",
      "25/02/10 13:52:14 WARN DAGScheduler: Broadcasting large task binary with size 2004.5 KiB\n",
      "25/02/10 13:52:15 WARN DAGScheduler: Broadcasting large task binary with size 2.6 MiB\n",
      "25/02/10 13:52:17 WARN DAGScheduler: Broadcasting large task binary with size 1550.5 KiB\n",
      "25/02/10 13:54:02 WARN DAGScheduler: Broadcasting large task binary with size 1005.0 KiB\n",
      "25/02/10 13:54:21 WARN DAGScheduler: Broadcasting large task binary with size 1143.9 KiB\n",
      "25/02/10 13:54:32 WARN DAGScheduler: Broadcasting large task binary with size 1146.2 KiB\n",
      "25/02/10 13:54:42 WARN DAGScheduler: Broadcasting large task binary with size 1131.3 KiB\n",
      "25/02/10 13:54:53 WARN DAGScheduler: Broadcasting large task binary with size 1258.1 KiB\n",
      "25/02/10 13:54:54 WARN DAGScheduler: Broadcasting large task binary with size 1773.9 KiB\n",
      "25/02/10 13:54:56 WARN DAGScheduler: Broadcasting large task binary with size 2.3 MiB\n",
      "25/02/10 13:54:58 WARN DAGScheduler: Broadcasting large task binary with size 1543.2 KiB\n",
      "25/02/10 13:55:02 WARN DAGScheduler: Broadcasting large task binary with size 1102.7 KiB\n",
      "25/02/10 13:55:03 WARN DAGScheduler: Broadcasting large task binary with size 1576.6 KiB\n",
      "25/02/10 13:55:03 WARN DAGScheduler: Broadcasting large task binary with size 2.1 MiB\n",
      "25/02/10 13:55:04 WARN DAGScheduler: Broadcasting large task binary with size 1533.3 KiB\n",
      "25/02/10 13:55:09 WARN DAGScheduler: Broadcasting large task binary with size 1246.6 KiB\n",
      "25/02/10 13:55:11 WARN DAGScheduler: Broadcasting large task binary with size 1728.6 KiB\n",
      "25/02/10 13:55:12 WARN DAGScheduler: Broadcasting large task binary with size 2.2 MiB\n",
      "25/02/10 13:55:14 WARN DAGScheduler: Broadcasting large task binary with size 1270.7 KiB\n",
      "25/02/10 13:55:18 WARN DAGScheduler: Broadcasting large task binary with size 1088.9 KiB\n",
      "25/02/10 13:55:19 WARN DAGScheduler: Broadcasting large task binary with size 1513.7 KiB\n",
      "25/02/10 13:55:20 WARN DAGScheduler: Broadcasting large task binary with size 2.0 MiB\n",
      "25/02/10 13:55:20 WARN DAGScheduler: Broadcasting large task binary with size 1260.7 KiB\n",
      "25/02/10 13:55:26 WARN DAGScheduler: Broadcasting large task binary with size 1197.4 KiB\n",
      "25/02/10 13:55:27 WARN DAGScheduler: Broadcasting large task binary with size 1622.5 KiB\n",
      "25/02/10 13:55:28 WARN DAGScheduler: Broadcasting large task binary with size 2.0 MiB\n",
      "25/02/10 13:55:30 WARN DAGScheduler: Broadcasting large task binary with size 1061.4 KiB\n",
      "25/02/10 13:55:34 WARN DAGScheduler: Broadcasting large task binary with size 1047.6 KiB\n",
      "25/02/10 13:55:35 WARN DAGScheduler: Broadcasting large task binary with size 1419.8 KiB\n",
      "25/02/10 13:55:35 WARN DAGScheduler: Broadcasting large task binary with size 1846.5 KiB\n",
      "25/02/10 13:55:36 WARN DAGScheduler: Broadcasting large task binary with size 1047.4 KiB\n",
      "25/02/10 13:55:42 WARN DAGScheduler: Broadcasting large task binary with size 1478.8 KiB\n",
      "25/02/10 13:55:43 WARN DAGScheduler: Broadcasting large task binary with size 2.1 MiB\n",
      "25/02/10 13:55:45 WARN DAGScheduler: Broadcasting large task binary with size 2.8 MiB\n",
      "25/02/10 13:55:48 WARN DAGScheduler: Broadcasting large task binary with size 1898.2 KiB\n",
      "25/02/10 13:55:52 WARN DAGScheduler: Broadcasting large task binary with size 1298.6 KiB\n",
      "25/02/10 13:55:53 WARN DAGScheduler: Broadcasting large task binary with size 1893.1 KiB\n",
      "25/02/10 13:55:54 WARN DAGScheduler: Broadcasting large task binary with size 2.6 MiB\n",
      "25/02/10 13:55:55 WARN DAGScheduler: Broadcasting large task binary with size 1887.0 KiB\n",
      "25/02/10 13:55:59 WARN DAGScheduler: Broadcasting large task binary with size 1005.0 KiB\n",
      "25/02/10 13:56:00 WARN DAGScheduler: Broadcasting large task binary with size 1478.2 KiB\n",
      "25/02/10 13:56:02 WARN DAGScheduler: Broadcasting large task binary with size 2.1 MiB\n",
      "25/02/10 13:56:04 WARN DAGScheduler: Broadcasting large task binary with size 2.7 MiB\n",
      "25/02/10 13:56:07 WARN DAGScheduler: Broadcasting large task binary with size 1583.2 KiB\n",
      "25/02/10 13:56:11 WARN DAGScheduler: Broadcasting large task binary with size 1271.4 KiB\n",
      "25/02/10 13:56:12 WARN DAGScheduler: Broadcasting large task binary with size 1818.7 KiB\n",
      "25/02/10 13:56:13 WARN DAGScheduler: Broadcasting large task binary with size 2.5 MiB\n",
      "25/02/10 13:56:14 WARN DAGScheduler: Broadcasting large task binary with size 1552.3 KiB\n",
      "25/02/10 13:56:19 WARN DAGScheduler: Broadcasting large task binary with size 1398.1 KiB\n",
      "25/02/10 13:56:21 WARN DAGScheduler: Broadcasting large task binary with size 1899.2 KiB\n",
      "25/02/10 13:56:23 WARN DAGScheduler: Broadcasting large task binary with size 2.4 MiB\n",
      "25/02/10 13:56:25 WARN DAGScheduler: Broadcasting large task binary with size 1290.2 KiB\n",
      "25/02/10 13:56:29 WARN DAGScheduler: Broadcasting large task binary with size 1219.2 KiB\n",
      "25/02/10 13:56:30 WARN DAGScheduler: Broadcasting large task binary with size 1685.1 KiB\n",
      "25/02/10 13:56:31 WARN DAGScheduler: Broadcasting large task binary with size 2.2 MiB\n",
      "25/02/10 13:56:32 WARN DAGScheduler: Broadcasting large task binary with size 1278.1 KiB\n",
      "25/02/10 13:56:36 WARN DAGScheduler: Broadcasting large task binary with size 1143.9 KiB\n",
      "25/02/10 13:56:38 WARN DAGScheduler: Broadcasting large task binary with size 1724.3 KiB\n",
      "25/02/10 13:56:40 WARN DAGScheduler: Broadcasting large task binary with size 2.4 MiB\n",
      "25/02/10 13:56:42 WARN DAGScheduler: Broadcasting large task binary with size 3.4 MiB\n",
      "25/02/10 13:56:45 WARN DAGScheduler: Broadcasting large task binary with size 2.2 MiB\n",
      "25/02/10 13:56:50 WARN DAGScheduler: Broadcasting large task binary with size 1476.0 KiB\n",
      "25/02/10 13:56:50 WARN DAGScheduler: Broadcasting large task binary with size 2.1 MiB\n",
      "25/02/10 13:56:52 WARN DAGScheduler: Broadcasting large task binary with size 3.0 MiB\n",
      "25/02/10 13:56:53 WARN DAGScheduler: Broadcasting large task binary with size 2.2 MiB\n",
      "25/02/10 13:56:58 WARN DAGScheduler: Broadcasting large task binary with size 1146.2 KiB\n",
      "25/02/10 13:56:59 WARN DAGScheduler: Broadcasting large task binary with size 1713.1 KiB\n",
      "25/02/10 13:57:01 WARN DAGScheduler: Broadcasting large task binary with size 2.4 MiB\n",
      "25/02/10 13:57:03 WARN DAGScheduler: Broadcasting large task binary with size 3.2 MiB\n",
      "25/02/10 13:57:07 WARN DAGScheduler: Broadcasting large task binary with size 1864.9 KiB\n",
      "25/02/10 13:57:11 WARN DAGScheduler: Broadcasting large task binary with size 1449.9 KiB\n",
      "25/02/10 13:57:12 WARN DAGScheduler: Broadcasting large task binary with size 2.0 MiB\n",
      "25/02/10 13:57:13 WARN DAGScheduler: Broadcasting large task binary with size 2.8 MiB\n",
      "25/02/10 13:57:15 WARN DAGScheduler: Broadcasting large task binary with size 1818.7 KiB\n",
      "25/02/10 13:57:19 WARN DAGScheduler: Broadcasting large task binary with size 1131.3 KiB\n",
      "25/02/10 13:57:21 WARN DAGScheduler: Broadcasting large task binary with size 1652.0 KiB\n",
      "25/02/10 13:57:23 WARN DAGScheduler: Broadcasting large task binary with size 2.2 MiB\n",
      "25/02/10 13:57:25 WARN DAGScheduler: Broadcasting large task binary with size 2.9 MiB\n",
      "25/02/10 13:57:28 WARN DAGScheduler: Broadcasting large task binary with size 1540.0 KiB\n",
      "25/02/10 13:57:32 WARN DAGScheduler: Broadcasting large task binary with size 1380.8 KiB\n",
      "25/02/10 13:57:33 WARN DAGScheduler: Broadcasting large task binary with size 1911.4 KiB\n",
      "25/02/10 13:57:34 WARN DAGScheduler: Broadcasting large task binary with size 2.5 MiB\n",
      "25/02/10 13:57:35 WARN DAGScheduler: Broadcasting large task binary with size 1486.3 KiB\n",
      "25/02/10 13:59:42 WARN DAGScheduler: Broadcasting large task binary with size 1140.8 KiB\n",
      "25/02/10 13:59:53 WARN DAGScheduler: Broadcasting large task binary with size 1147.7 KiB\n",
      "25/02/10 14:00:03 WARN DAGScheduler: Broadcasting large task binary with size 1126.4 KiB\n",
      "25/02/10 14:00:14 WARN DAGScheduler: Broadcasting large task binary with size 1264.4 KiB\n",
      "25/02/10 14:00:15 WARN DAGScheduler: Broadcasting large task binary with size 1776.6 KiB\n",
      "25/02/10 14:00:17 WARN DAGScheduler: Broadcasting large task binary with size 2.3 MiB\n",
      "25/02/10 14:00:19 WARN DAGScheduler: Broadcasting large task binary with size 1520.7 KiB\n",
      "25/02/10 14:00:23 WARN DAGScheduler: Broadcasting large task binary with size 1105.7 KiB\n",
      "25/02/10 14:00:24 WARN DAGScheduler: Broadcasting large task binary with size 1578.6 KiB\n",
      "25/02/10 14:00:24 WARN DAGScheduler: Broadcasting large task binary with size 2.1 MiB\n",
      "25/02/10 14:00:25 WARN DAGScheduler: Broadcasting large task binary with size 1552.8 KiB\n",
      "25/02/10 14:00:30 WARN DAGScheduler: Broadcasting large task binary with size 1251.3 KiB\n",
      "25/02/10 14:00:32 WARN DAGScheduler: Broadcasting large task binary with size 1740.6 KiB\n",
      "25/02/10 14:00:33 WARN DAGScheduler: Broadcasting large task binary with size 2.2 MiB\n",
      "25/02/10 14:00:35 WARN DAGScheduler: Broadcasting large task binary with size 1284.1 KiB\n",
      "25/02/10 14:00:39 WARN DAGScheduler: Broadcasting large task binary with size 1092.5 KiB\n",
      "25/02/10 14:00:40 WARN DAGScheduler: Broadcasting large task binary with size 1529.1 KiB\n",
      "25/02/10 14:00:41 WARN DAGScheduler: Broadcasting large task binary with size 2.0 MiB\n",
      "25/02/10 14:00:42 WARN DAGScheduler: Broadcasting large task binary with size 1275.2 KiB\n",
      "25/02/10 14:00:47 WARN DAGScheduler: Broadcasting large task binary with size 1202.1 KiB\n",
      "25/02/10 14:00:48 WARN DAGScheduler: Broadcasting large task binary with size 1611.9 KiB\n",
      "25/02/10 14:00:49 WARN DAGScheduler: Broadcasting large task binary with size 2045.7 KiB\n",
      "25/02/10 14:00:51 WARN DAGScheduler: Broadcasting large task binary with size 1047.5 KiB\n",
      "25/02/10 14:00:55 WARN DAGScheduler: Broadcasting large task binary with size 1044.2 KiB\n",
      "25/02/10 14:00:55 WARN DAGScheduler: Broadcasting large task binary with size 1418.9 KiB\n",
      "25/02/10 14:00:56 WARN DAGScheduler: Broadcasting large task binary with size 1861.3 KiB\n",
      "25/02/10 14:00:57 WARN DAGScheduler: Broadcasting large task binary with size 1043.8 KiB\n",
      "25/02/10 14:01:03 WARN DAGScheduler: Broadcasting large task binary with size 1466.6 KiB\n",
      "25/02/10 14:01:04 WARN DAGScheduler: Broadcasting large task binary with size 2.1 MiB\n",
      "25/02/10 14:01:06 WARN DAGScheduler: Broadcasting large task binary with size 2.8 MiB\n",
      "25/02/10 14:01:09 WARN DAGScheduler: Broadcasting large task binary with size 1859.9 KiB\n",
      "25/02/10 14:01:13 WARN DAGScheduler: Broadcasting large task binary with size 1300.6 KiB\n",
      "25/02/10 14:01:14 WARN DAGScheduler: Broadcasting large task binary with size 1880.4 KiB\n",
      "25/02/10 14:01:14 WARN DAGScheduler: Broadcasting large task binary with size 2.6 MiB\n",
      "25/02/10 14:01:16 WARN DAGScheduler: Broadcasting large task binary with size 1873.1 KiB\n",
      "25/02/10 14:01:21 WARN DAGScheduler: Broadcasting large task binary with size 1449.0 KiB\n",
      "25/02/10 14:01:23 WARN DAGScheduler: Broadcasting large task binary with size 2046.3 KiB\n",
      "25/02/10 14:01:25 WARN DAGScheduler: Broadcasting large task binary with size 2.7 MiB\n",
      "25/02/10 14:01:27 WARN DAGScheduler: Broadcasting large task binary with size 1550.8 KiB\n",
      "25/02/10 14:01:32 WARN DAGScheduler: Broadcasting large task binary with size 1284.0 KiB\n",
      "25/02/10 14:01:32 WARN DAGScheduler: Broadcasting large task binary with size 1830.1 KiB\n",
      "25/02/10 14:01:33 WARN DAGScheduler: Broadcasting large task binary with size 2.4 MiB\n",
      "25/02/10 14:01:34 WARN DAGScheduler: Broadcasting large task binary with size 1544.8 KiB\n",
      "25/02/10 14:01:40 WARN DAGScheduler: Broadcasting large task binary with size 1396.7 KiB\n",
      "25/02/10 14:01:41 WARN DAGScheduler: Broadcasting large task binary with size 1895.6 KiB\n",
      "25/02/10 14:01:43 WARN DAGScheduler: Broadcasting large task binary with size 2.4 MiB\n",
      "25/02/10 14:01:45 WARN DAGScheduler: Broadcasting large task binary with size 1271.7 KiB\n",
      "25/02/10 14:01:50 WARN DAGScheduler: Broadcasting large task binary with size 1212.7 KiB\n",
      "25/02/10 14:01:50 WARN DAGScheduler: Broadcasting large task binary with size 1671.7 KiB\n",
      "25/02/10 14:01:51 WARN DAGScheduler: Broadcasting large task binary with size 2.2 MiB\n",
      "25/02/10 14:01:52 WARN DAGScheduler: Broadcasting large task binary with size 1272.4 KiB\n",
      "25/02/10 14:01:57 WARN DAGScheduler: Broadcasting large task binary with size 1140.8 KiB\n",
      "25/02/10 14:01:58 WARN DAGScheduler: Broadcasting large task binary with size 1721.0 KiB\n",
      "25/02/10 14:02:00 WARN DAGScheduler: Broadcasting large task binary with size 2.4 MiB\n",
      "25/02/10 14:02:03 WARN DAGScheduler: Broadcasting large task binary with size 3.4 MiB\n",
      "25/02/10 14:02:06 WARN DAGScheduler: Broadcasting large task binary with size 2.2 MiB\n",
      "25/02/10 14:02:10 WARN DAGScheduler: Broadcasting large task binary with size 1490.6 KiB\n",
      "25/02/10 14:02:11 WARN DAGScheduler: Broadcasting large task binary with size 2.1 MiB\n",
      "25/02/10 14:02:12 WARN DAGScheduler: Broadcasting large task binary with size 3.0 MiB\n",
      "25/02/10 14:02:14 WARN DAGScheduler: Broadcasting large task binary with size 2.2 MiB\n",
      "25/02/10 14:02:18 WARN DAGScheduler: Broadcasting large task binary with size 1147.7 KiB\n",
      "25/02/10 14:02:20 WARN DAGScheduler: Broadcasting large task binary with size 1703.1 KiB\n",
      "25/02/10 14:02:22 WARN DAGScheduler: Broadcasting large task binary with size 2.4 MiB\n",
      "25/02/10 14:02:24 WARN DAGScheduler: Broadcasting large task binary with size 3.2 MiB\n",
      "25/02/10 14:02:27 WARN DAGScheduler: Broadcasting large task binary with size 1860.6 KiB\n",
      "25/02/10 14:02:32 WARN DAGScheduler: Broadcasting large task binary with size 1483.0 KiB\n",
      "25/02/10 14:02:33 WARN DAGScheduler: Broadcasting large task binary with size 2.1 MiB\n",
      "25/02/10 14:02:34 WARN DAGScheduler: Broadcasting large task binary with size 2.9 MiB\n",
      "25/02/10 14:02:35 WARN DAGScheduler: Broadcasting large task binary with size 1840.7 KiB\n",
      "25/02/10 14:02:40 WARN DAGScheduler: Broadcasting large task binary with size 1126.4 KiB\n",
      "25/02/10 14:02:41 WARN DAGScheduler: Broadcasting large task binary with size 1637.2 KiB\n",
      "25/02/10 14:02:43 WARN DAGScheduler: Broadcasting large task binary with size 2.2 MiB\n",
      "25/02/10 14:02:45 WARN DAGScheduler: Broadcasting large task binary with size 2.8 MiB\n",
      "25/02/10 14:02:48 WARN DAGScheduler: Broadcasting large task binary with size 1534.8 KiB\n",
      "25/02/10 14:02:53 WARN DAGScheduler: Broadcasting large task binary with size 1408.4 KiB\n",
      "25/02/10 14:02:53 WARN DAGScheduler: Broadcasting large task binary with size 1961.5 KiB\n",
      "25/02/10 14:02:54 WARN DAGScheduler: Broadcasting large task binary with size 2.5 MiB\n",
      "25/02/10 14:02:56 WARN DAGScheduler: Broadcasting large task binary with size 1504.0 KiB\n",
      "                                                                                \r"
     ]
    }
   ],
   "source": [
    "paramGrid_rf = ParamGridBuilder() \\\n",
    "                .addGrid(rf.maxDepth, [3, 5, 8]) \\\n",
    "                .addGrid(rf.numTrees, [100, 125, 150]) \\\n",
    "                .addGrid(rf.minInstancesPerNode, [2, 5, 10])\\\n",
    "                .addGrid(rf.featureSubsetStrategy, [\"sqrt\", \"log2\"])\\\n",
    "                .build()\n",
    "\n",
    "cv_rf = CrossValidator().setEstimator(pipelineRF) \\\n",
    "                           .setEstimatorParamMaps(paramGrid_rf) \\\n",
    "                           .setNumFolds(5) \\\n",
    "                           .setEvaluator(BinaryClassificationEvaluator())\n",
    "\n",
    "cvRFmodel = cv_rf.fit(train)"
   ]
  },
  {
   "cell_type": "code",
   "execution_count": 18,
   "metadata": {},
   "outputs": [
    {
     "name": "stdout",
     "output_type": "stream",
     "text": [
      "[0.5500347648139722, 0.5521388348631524, 0.5536929174558083, 0.5510709374948402, 0.5489249899030673, 0.5521134109731575, 0.5528785936287142, 0.5630448396991944, 0.5535707909034012, 0.5667522456840447, 0.5511441345084963, 0.5590454902244296, 0.5504401666145131, 0.5523726298344509, 0.5556989037311107, 0.5582534488742534, 0.5465185073834954, 0.5588372516226894, 0.5533815267264097, 0.5462265417949365, 0.5667936919464799, 0.557990286675728, 0.5500443739422667, 0.5482230430518511, 0.5486364072151719, 0.5608278324458981, 0.5648105076871871, 0.5583357868076131, 0.5524310252369871, 0.5534956661734913, 0.5558644630575018, 0.5459725623935895, 0.5491651539531136, 0.5435477235902939, 0.5538586125679535, 0.565650699262749, 0.5435033951984245, 0.5386488928746799, 0.5580789346250243, 0.5609973757040618, 0.5539535333846176, 0.54580273270739, 0.543023028566396, 0.5471454553541527, 0.5597912392372655, 0.547252877619529, 0.5442898362792532, 0.5449190395153295, 0.550988646544561, 0.5413617134042294, 0.543487212365099, 0.5450468091234714, 0.5502930862530381, 0.5606104714655129]\n"
     ]
    },
    {
     "data": {
      "text/plain": [
       "{Param(parent='RandomForestClassifier_1ca1315b5a79', name='maxDepth', doc='Maximum depth of the tree. (>= 0) E.g., depth 0 means 1 leaf node; depth 1 means 1 internal node + 2 leaf nodes. Must be in range [0, 30].'): 5,\n",
       " Param(parent='RandomForestClassifier_1ca1315b5a79', name='numTrees', doc='Number of trees to train (>= 1).'): 100,\n",
       " Param(parent='RandomForestClassifier_1ca1315b5a79', name='minInstancesPerNode', doc='Minimum number of instances each child must have after split. If a split causes the left or right child to have fewer than minInstancesPerNode, the split will be discarded as invalid. Should be >= 1.'): 5,\n",
       " Param(parent='RandomForestClassifier_1ca1315b5a79', name='featureSubsetStrategy', doc=\"The number of features to consider for splits at each tree node. Supported options: 'auto' (choose automatically for task: If numTrees == 1, set to 'all'. If numTrees > 1 (forest), set to 'sqrt' for classification and to 'onethird' for regression), 'all' (use all features), 'onethird' (use 1/3 of the features), 'sqrt' (use sqrt(number of features)), 'log2' (use log2(number of features)), 'n' (when n is in the range (0, 1.0], use n * number of features. When n is in the range (1, number of features), use n features). default = 'auto'\"): 'sqrt'}"
      ]
     },
     "execution_count": 18,
     "metadata": {},
     "output_type": "execute_result"
    }
   ],
   "source": [
    "# Afficher les valeurs AUC obtenues pour les combinaisons de la grille\n",
    "print(cvRFmodel.avgMetrics)\n",
    "\n",
    "# Afficher les meilleures valeurs pour les hyperparamètres\n",
    "cvRFmodel.getEstimatorParamMaps()[cvRFmodel.avgMetrics.index(max(cvRFmodel.avgMetrics))]"
   ]
  },
  {
   "cell_type": "code",
   "execution_count": null,
   "metadata": {},
   "outputs": [
    {
     "name": "stdout",
     "output_type": "stream",
     "text": [
      "(788,[3,11,17,18,19,21,22,23,24,26,27,28,29,30,31,32,33,34,35,36,37,38,39,40,41,42,43,44,46,47,48,49,51,52,53,54,55,56,57,58,59,60,61,62,63,65,66,67,68,69,70,71,72,73,74,75,76,77,78,79,80,81,82,83,84,85,86,87,88,89,90,91,92,93,94,95,96,97,98,99,100,101,102,103,104,106,107,108,109,110,111,112,113,114,115,116,117,118,119,120,121,122,123,124,125,126,127,128,129,130,131,132,133,134,135,136,137,138,139,140,141,142,143,144,145,146,147,148,149,150,151,152,153,154,155,156,157,158,159,160,161,162,163,164,165,166,167,168,169,170,171,172,173,174,175,176,177,178,179,180,181,182,183,184,185,186,187,188,189,190,191,192,193,194,195,196,197,198,199,200,201,202,203,204,205,206,207,209,210,211,212,213,214,215,216,217,219,220,221,222,223,224,225,226,227,228,229,230,231,232,233,234,235,236,237,238,239,240,241,242,244,245,246,247,248,249,250,251,252,253,254,255,256,257,258,260,261,262,263,264,265,266,267,268,269,270,271,272,273,274,275,276,277,279,280,281,282,283,284,285,286,287,288,289,290,292,293,294,296,297,298,299,301,304,305,306,307,308,310,311,312,313,315,316,317,318,319,320,321,322,323,324,325,326,327,328,329,330,331,333,334,335,336,338,339,342,343,344,346,347,348,349,350,351,352,353,354,355,356,357,358,360,361,362,363,364,365,366,368,369,370,371,372,373,374,375,376,378,379,380,381,382,384,385,386,387,388,389,390,391,392,393,394,396,397,398,399,400,401,402,403,404,405,406,407,408,409,410,412,413,414,415,416,417,418,419,420,421,422,423,424,425,426,427,428,429,430,431,432,433,434,435,436,437,438,439,440,441,443,444,446,447,448,450,451,452,454,455,456,457,458,459,460,462,463,464,465,466,467,468,469,470,471,472,473,474,475,477,478,479,480,481,482,483,484,485,486,487,488,489,490,491,492,493,494,495,496,497,498,499,500,501,502,503,504,505,506,507,508,509,510,511,512,513,514,516,517,518,519,520,521,522,523,524,525,526,527,528,529,530,531,532,533,534,535,536,537,538,539,540,541,542,543,544,545,546,547,548,549,550,551,552,553,554,555,556,557,558,559,560,563,564,565,566,567,568,569,570,571,572,574,576,577,578,579,580,581,582,583,584,585,586,587,588,589,590,591,592,593,594,595,596,597,598,599,600,601,602,603,604,605,606,607,608,609,610,611,612,613,614,616,617,619,620,621,622,623,625,626,628,629,630,631,632,633,634,635,637,638,639,641,642,643,644,646,647,648,649,650,651,652,653,654,655,656,657,658,659,660,661,662,663,664,665,666,667,668,670,671,672,673,674,675,676,677,678,679,680,681,682,683,684,685,686,688,689,690,691,692,693,694,695,696,697,698,699,700,701,702,703,704,705,706,707,708,709,710,711,712,713,714,715,716,717,718,719,720,721,722,723,724,725,726,727,729,730,731,732,733,734,735,736,737,739,740,741,742,743,744,745,746,747,748,749,750,751,752,753,754,755,756,757,759,760,761,762,763,764,765,766,767,768,769,770,771,772,773,774,776,777,778,779,781,782,783,784,785,786],[0.000521563052762783,0.0003032221550565067,0.0008921820983631977,0.001799754733778826,0.0008494962989083372,0.0006684115774999916,0.0008445112924635508,0.0012559749195363555,0.0004608173214302557,0.00106714656161439,0.0009062190141750243,0.0009018003622301731,0.0004671035958353172,0.001973176455296597,0.0013389863538765595,0.0012447893633289074,0.00172675696059722,0.0006397297026974709,0.002304549505261724,0.0013598307852877333,0.00032106400285624126,0.0010463824006547804,0.0014412104480661413,0.0002058577411953385,0.0007419472427677862,0.0018007131659770392,0.0007503894168835296,0.001085849712297181,0.0023623732733897046,0.003220681783228115,0.004493251291330931,0.0018760751150840578,0.0021385972465000954,0.001118504217380687,0.0009282079645806669,0.0008908920214033599,0.00094973188970888,0.002094370289037143,0.001130413667668247,0.0033608198231855576,0.0010323824260661668,0.003483260147687812,0.002672682572779526,0.000691339621602852,0.0006187651302311258,0.0021146631009391235,0.0010051234206257676,0.0010950385474772968,0.0009758319768135608,0.0011167971249785088,0.0007942308089720636,0.0011104144290012697,0.0003145363869905228,0.004996630602728631,0.001106786615865414,0.0013651625078506082,0.0005869114671750635,0.0008253430701879223,0.0014461724419927806,0.001981193677993045,0.0010514415068626692,0.0005939272361676393,0.0017717222634623406,0.0011692702389828932,0.0004830157290704564,0.0004129574537866818,0.003307069715882526,0.0011786531956856547,0.0010234085496650647,0.0013145778212021535,0.0013941994018836,0.0001413789729987347,0.0019239378644118706,0.0007480052172006141,0.0009319954741084488,0.0008030954154431786,0.0013528056508740783,0.0033979515072699363,0.00021947088810242622,0.0009688224635363289,0.0006408547256704692,0.00014450061175073887,0.001290109639605886,0.003936912579570962,0.0016892650848709316,0.0009635611453366281,0.0009253662068706221,0.000953410197450301,0.001334076898109716,0.0009927020883039974,0.0012026239560029633,0.002288688129730998,0.002266427044543998,0.001530770631062579,0.0008065194917360431,0.0010465419610814456,0.0009702876412842161,0.0004411198815831315,0.0017244939280290324,0.0007710789985422702,0.0010046936637265872,0.0017018000917790902,0.002164697495110668,0.0011709925577713554,0.0010370995285765353,0.0014535796678836006,0.0012129526876013994,0.0011696587817083544,0.0024601368673974606,0.00046440666983490927,0.0008733972048149631,0.00017554104407265634,0.00047081783097419646,0.0010199458110703257,0.0014897705981993872,0.0009665031791469479,0.0005561380253262386,0.0009702824738688396,0.0012244698335831061,0.0018088478575405934,0.0011955700315720095,0.0012967988096512448,0.002916492876693915,0.0016473519288107985,0.0011822921048738754,0.0009078162877253372,0.0030120461533637067,0.002488214189148487,0.00395327617009544,0.00216956991808026,0.001162488872992651,0.0011344817771685664,0.0014468571460630746,0.0007824203208336933,0.0020198070038488195,0.000801913999326834,0.004224123333590639,0.0019762892037867618,0.00043421642827640866,0.0004048453098829139,0.0006007657551145284,0.0007865858856402045,0.0011572460893630747,0.0014487801856799285,0.0015116654521767634,0.0006242902310871596,0.0011188690685838044,0.0014231258543290963,0.00047102374923760435,0.0035137604597701814,0.001607127114531889,0.0006941945765397702,0.0018792353952625709,0.0025207861863739143,0.002858740440867009,0.0018554540032535952,0.0005567340382177107,0.0017871200266927206,0.0010298073095614617,0.003105169864848419,0.0023465062600486874,0.0009726942899420839,0.001911753144791209,0.0022756427249949053,0.0008013455874397149,0.00023141355904069687,0.000919006950327004,0.0012038831349047794,0.0010536886470599316,0.002370525904568342,0.002680731534527645,0.0027872533935595924,0.000952863335100615,0.00040904722046961994,0.0015046483564249095,0.001116033798481871,0.0008829307768419058,0.000598639098880836,0.0006087602497499501,0.0014595564089549778,0.0008367516006753607,0.0010389464597112769,0.0010088545270304163,0.0017090708415080566,0.0022280190362819682,0.001037066306835545,0.0005967370877534592,0.0007008150971813943,0.00014366085044484518,0.0012385328495902615,0.0017783422669013008,0.0009987575626471989,0.002173047642971751,0.0003734403014884695,0.0006397990756749255,0.0021683566478595926,0.0006704081353638376,0.0018090066256611684,0.0020891058228075725,0.002294967600378726,0.0016068078930399677,0.000589468661757094,0.0006405577127224516,0.0003964047054232792,0.0016436837319133803,0.001928125970810461,0.0005878978093977608,0.0011071649262713575,0.001198590109275892,0.0011187951327432356,0.001172075131193709,0.003630959439028537,0.0017517932882579529,0.0022809546286516663,0.0018631236381476033,0.0014846435339261382,0.0008587242767144782,0.0012938343177897773,0.002191262643802871,0.000999343639876331,0.0028382125077269053,0.0006431605890536148,0.0006690508557145316,0.0009260743131692489,0.0014447922975765214,0.0008736969450695922,0.002007768196547131,0.0006469418655802581,0.0023181386109519335,0.0037186807648851984,0.0010870897624727155,0.00017700651237375788,0.0008438743231743908,0.0006164923360378173,0.0026806566132609147,0.002173392701575324,0.0008249294971770172,0.0005700023949054783,0.0008071053531725395,0.0020404791369312133,0.0009262045236238203,0.0011961975335347205,0.0010505246034219413,0.001939501695892907,0.0004822695219134631,0.0009404458085353559,0.0009260849229834773,0.0007799549775274152,0.00014017724153176327,0.0008860163215648886,0.0025714391597085394,0.00020869135214043335,0.0015597077937825748,0.0005920419858128982,0.0006678107720350146,0.0025338774612487106,0.0024432959040461117,0.0008479542127319203,0.0008022469685181361,0.0006185670973392235,0.002691982534498524,0.0006245066361303729,0.0020478225406034196,0.0014040482867063967,0.002198049090927905,0.0015719420570177477,0.006729599223902679,0.002700797483354758,0.0023399261000539274,0.0010705268985464758,0.0012216946111853523,0.0023060914211890664,0.00036083605265377106,0.001144601226036507,0.0010405658071496585,0.002462153770909587,0.0009732019467323268,0.0010344479901049722,0.0005189994697738907,0.0003658500827596243,0.0004659623621083094,0.0011208829585059833,0.0001551788556360334,0.0006077596571073015,0.00024260123402920357,0.0020646511623105615,0.0001866639591427035,0.0002905028913705698,0.0004927354500654067,0.0008258193236889232,0.002489562392411004,0.0018773820007729938,0.00024569040468333644,0.0006963854068728915,0.002946403265958042,0.0004038611760767063,0.00421631264746942,0.003576367037876915,0.0014765933038918611,0.0007582571480799519,0.0006956061611138091,0.0007768696555103036,0.0016912330570443125,0.0017298049514960516,0.00032642442633819903,0.0026648260698146145,0.0006234931569074464,0.0019519505923165214,0.0016839752184111554,0.0022148443721098266,0.0020519343199348655,0.0035001223774630873,0.001849394803364598,0.001551782903265871,0.0021008804983000083,0.0004840872928958239,0.001179347432780331,0.0012453707371156955,0.000982607075933854,0.0017170381374397887,0.0003679743421132773,0.002240224366418002,0.0016602876793799584,0.00216941962059333,0.0013151746563359581,0.0011308213718108364,0.00187133291565398,0.00012267765607797717,0.0004047540189867045,0.0011734147024715525,0.0017095433502041706,0.0015737293961537856,0.0005997559839478439,0.0021887694692911777,0.00022778832598711906,0.000879090306443928,0.0014223761346437045,0.0019329397807496727,0.0004590433912703328,0.0005043621406020416,0.0005590680782531776,0.0006525628192028136,0.0004920694483688958,0.0013385177901095117,0.0004983095406837057,0.0011267399166448849,0.001063572331184701,0.0012616222585348227,0.00068897632246986,0.0009852945373837632,0.0016161888966042767,0.000658648124096252,0.00047202048655286535,0.0033100348336508874,0.001370966201253345,0.0002626809900877989,0.004896332178791167,0.0015930411260318617,0.000579944392413434,0.0015308903270424058,0.0004417269118202394,0.00141559246092593,0.0020335389961410274,0.0014728519263761362,0.004250309012134001,0.001062225883541553,0.0016057045576233233,0.000566127199578928,0.000497818442784007,0.002403324613872203,0.00097333474878474,0.001520025041269033,0.0029681546356243056,0.007288881311802653,0.0018963816931827644,0.0020121550276973894,0.0004786444091894496,0.0005526313913317643,0.0012718291071171016,0.00045034946167821026,0.0017445465737216115,0.0030946454549828735,0.0021581781065569744,0.0011672265539606614,0.0011627008683085449,0.00026068662091622413,0.0016924939791815106,0.0012104392231673887,0.0022857640195557863,0.0012032008843178557,0.0017689453202345455,0.0015531257490340206,0.0004536610954540572,0.0015658508385987676,0.0018778153125548404,0.0012201303012620486,0.0008323407390327445,0.00045929303017384454,0.000766375865943344,0.0019698416689757237,0.000223868070802312,0.0024480662570263477,0.0012354782598088898,0.0002511882493127662,0.0006020842717499486,0.0006737050742319259,0.0020624374081016517,0.0008203806961835396,0.001437938129893617,0.0006082525819883165,0.0003144746274747212,0.0014979333648896078,0.0016751084937345103,0.0011232773668921206,0.002773870997554687,0.0012804097018083145,0.000799232005113155,0.0016998164549566317,0.005242902718524835,0.0002282855006228715,0.00017639244589957642,0.0026211194518844703,0.0007849506956982635,0.0005001612663082767,0.0020073876064706222,0.0004474998734324382,0.0018588018900243767,0.0012926602194896738,0.0027814685455509035,0.0019358218359911714,0.0017108659049202574,0.0010138166468113019,0.0016982650673365801,0.0008306659358038536,0.0006693074155999608,0.0021891844097954583,0.0010970973304847205,0.0022734738290937037,0.0021395086779747445,0.0010473970501847388,0.0011693320373195226,0.001594552747878715,0.0019146403125812014,0.0006735972368524266,0.0003015405112178855,0.003198093614659883,0.002722096336847977,0.002060636202402029,0.004904202800724234,0.0009874215144498413,0.0014976305024800435,0.002157272469024419,0.0016861252220143706,0.002274870639658507,0.00026914750159273384,0.0006482646842402894,0.000726285032434538,0.002282809351129447,0.0001682019403390265,0.0033918338521964314,0.00029913106447737614,0.0006582068756364076,0.000485828680156721,0.00065548039127139,0.0009620144076424052,0.0020991658379907606,0.0014415664077560926,0.00023601551917704753,0.002204026249079082,0.0011953615837619793,0.0006937207846871393,0.00540332378278063,0.0028825802569884414,0.0014390636356631178,0.0010885986026384006,0.0013813396049510444,0.002120106893729191,0.0007290472134390076,0.000764790232429832,0.0006890292348647829,0.0010811553035403765,0.0005990060381593931,0.0007416422278382469,0.0005976138555481799,0.0004224397066383372,0.0004391496078951362,0.001920536337335066,0.0014552077150538766,0.0008538024615374824,0.0007859811160477001,0.004123039617682306,0.0005831683532478961,0.00026411578811370016,0.0005169364981983686,0.002315124505839797,0.0006632884368025778,0.0022265546644041406,0.0003247619278876155,0.0006940759028794876,0.0005071565585776888,0.004281345308347327,0.0020482741131427227,0.00028404914713521707,0.0019106913670649134,0.0016043574247636308,0.0008827891934088702,0.0011862227723059614,0.0001536286880804249,0.0021632840112637735,0.0007802113876815166,0.0018473247737518768,0.0008619093241244232,0.0017893601325498815,0.0016287714545294924,0.0015955731892826586,0.001879849923563332,0.001175171316067761,0.0018108382538751275,0.0008376563015253198,0.0003057405931243084,0.0018961045838699689,0.0009030114501710411,0.00038015615901005185,0.002135762081249976,0.0019387663452228707,0.0018368127107455795,0.0018345551309065882,0.0014600174980894654,0.0019871455544443702,0.0016995241788723022,0.0006663010539024778,0.0007840413588496356,0.0012463793314744945,0.001976540603486924,0.002288459754107072,0.001208876576647053,0.000586335719909473,0.001714615463931105,0.0013522262377569513,0.0005654697726302223,0.0006759953036907126,0.0006703968777366824,0.00023240757398219547,0.00017393505265491646,0.0013846817591148673,0.003613027283653314,0.0006280494239829351,0.01058261995198335,0.0025989461096603303,0.0015431067950078844,0.00023435603437244,0.0002407137186427841,0.0010936453277323296,0.002297803278341858,0.0020233467372701205,0.0019094651338956092,0.0021761244271925437,0.00047671829774384087,0.0004000613633692052,0.0006079019337104183,0.001612619646852802,0.000510273468779607,0.0009125964847804614,0.0017091654115980047,0.0020623473413058963,0.0008778026506217511,0.0003844605726776529,0.0016147530014165611,0.0013000507329031937,0.0015817589513072083,0.0012171916261807143,0.0014937439607061126,0.001496272418401357,0.00098186765159615,0.0010480866533813136,0.000280934947298535,0.0011496795860443394,0.0020610987714730754,0.0005161613552568205,0.0013571951824380324,0.0011634812121983863,0.0016183427215645443,0.0016856630160198938,0.0006059680565755145,0.001767252199322266,0.0020220971704510214,0.0002420595227796584,0.0005027896954333096,0.0011054411715793553,0.003372900925120121,0.0004160565451048493,0.0006224903733578201,0.0006336163040977043,0.0007129820110097034,0.0009459940535762616,0.002053796874120411,0.001263898939157395,0.0006270126407733035,0.0013579236982617898,0.0011745987560654106,0.001624669429047553,0.0011609554270813737,0.0009163433003142108,0.0025673811074256904,0.0006859638516702639,0.002111181609436761,0.0012820589681291632,0.00033745425770755885,0.0016763379233763738,0.001167840806343328,0.0006389054340848524,0.001472003759879204,0.0014216005436832537,0.00043848461996394417,0.0020560726744452418,0.0017103067132264343,0.0018713966715171633,0.0018738292535040097,0.0009890403113287768,0.0010777862050450105,0.001466608004040815,0.0012926016242600436,0.00029579518466081605,0.0006102946877711905,0.0005920447745261147,0.0003855749139162221,0.0004054173491767205,0.0003501407321597621,0.0012953292976587319,0.003309166289818169,0.00155351072782778,0.002709388572206243,0.0008614224062822492,0.0006040803819022651,0.00016443178433269933,0.0005295791502649373,0.0010870910565569923,0.0013726628752459406,0.0006487755658180119,0.0030211029925814844,0.0014110361619055088,0.00025061997650614823,0.0015044120247536916,0.0019555198141880735,0.001682269094430184,0.0012328260287485485,0.0005627541691461728,0.0013645475546621136,0.001253353139485615,0.0020293396529303055,0.0004233447551056651,0.000983182555748646,0.0033426486268106144,0.004662890403129164,0.0005022760543542024,0.001730912032351504,0.0017237420207709573,0.0012268473499128447,0.0005485038935812293,0.0013788765614917218,0.0006635992289442886,0.0014069897253308605,0.0018262393513131673,0.0014231129749831789,0.0024344500812590528,0.0007092680423941539,0.0008590280165667122,0.0014596239897183571,0.001231533821604792,0.0005485052525220897,0.001713236112841578,0.0002708654489412346,0.0009889831676659253,0.0007817869901565291,0.001358859517025137,0.0006928490894847324,0.0001794478294238595,0.0023568832471349563,0.004002416486210553,0.0010241672124091943,0.00232628662540331,0.001339550916266097,0.002204055387693056,0.00040781531381056446,0.0010041988621632325,0.0010076046806004118,0.0023038053536668717,0.0019104720914175496,0.0010675168478470607,0.0014179381077927171,0.0026940516636176077,0.00017042949593187376,0.00037567590873405015,0.0005921895081039979,0.0009035477368211925,0.0016639180411154003,0.001039919304100469,0.0005703587078408874,0.0006017987266959279,0.0016959023616384208,0.0010263940590411655,0.002766045615442962,0.00028157084486602987,0.0021892689681356006,0.0038060136501389943,0.0005722734060952787,0.006401658122647578,0.0014802994209131143,0.004182895966377494,0.0019675932619507073,0.0005951124102428491,0.0013124169512766023,0.000880838739972308,0.0018450768000073331,0.0013751834417465875,0.0008344257403465802,0.0011200211880155373,0.0018686140019347412])\n"
     ]
    }
   ],
   "source": [
    "# Importances des variables pour le meilleur modèle\n",
    "best_RFmodel = cvRFmodel.bestModel.stages[-1]\n",
    "feature_importances = best_RFmodel.featureImportances\n",
    "print(feature_importances)"
   ]
  },
  {
   "cell_type": "code",
   "execution_count": null,
   "metadata": {},
   "outputs": [],
   "source": [
    "cvRFmodel.write().overwrite().save(f\"{folder_models}/cvRFmodel_fullEmbed\")"
   ]
  }
 ],
 "metadata": {
  "kernelspec": {
   "display_name": "sparkEnv",
   "language": "python",
   "name": "python3"
  },
  "language_info": {
   "codemirror_mode": {
    "name": "ipython",
    "version": 3
   },
   "file_extension": ".py",
   "mimetype": "text/x-python",
   "name": "python",
   "nbconvert_exporter": "python",
   "pygments_lexer": "ipython3",
   "version": "3.12.8"
  }
 },
 "nbformat": 4,
 "nbformat_minor": 2
}
